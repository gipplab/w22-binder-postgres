{
 "cells": [
  {
   "cell_type": "markdown",
   "metadata": {},
   "source": [
    "# Task 8.1 Dataframe to SQL (6 Points)"
   ]
  },
  {
   "cell_type": "markdown",
   "metadata": {},
   "source": [
    "This task is about converting from pandas Dataframe queries to SQL queries. At first, we create a connection to the database and work on the table 'city' from the mondial schema."
   ]
  },
  {
   "cell_type": "code",
   "execution_count": 1,
   "metadata": {
    "jupyter": {
     "outputs_hidden": false
    }
   },
   "outputs": [
    {
     "data": {
      "text/html": [
       "<div>\n",
       "<style scoped>\n",
       "    .dataframe tbody tr th:only-of-type {\n",
       "        vertical-align: middle;\n",
       "    }\n",
       "\n",
       "    .dataframe tbody tr th {\n",
       "        vertical-align: top;\n",
       "    }\n",
       "\n",
       "    .dataframe thead th {\n",
       "        text-align: right;\n",
       "    }\n",
       "</style>\n",
       "<table border=\"1\" class=\"dataframe\">\n",
       "  <thead>\n",
       "    <tr style=\"text-align: right;\">\n",
       "      <th></th>\n",
       "      <th>name</th>\n",
       "      <th>country</th>\n",
       "      <th>province</th>\n",
       "      <th>population</th>\n",
       "      <th>coordinates</th>\n",
       "    </tr>\n",
       "  </thead>\n",
       "  <tbody>\n",
       "    <tr>\n",
       "      <th>0</th>\n",
       "      <td>Tirane</td>\n",
       "      <td>AL</td>\n",
       "      <td>Albania</td>\n",
       "      <td>192000.0</td>\n",
       "      <td>(19.8,41.3)</td>\n",
       "    </tr>\n",
       "    <tr>\n",
       "      <th>1</th>\n",
       "      <td>Shkoder</td>\n",
       "      <td>AL</td>\n",
       "      <td>Albania</td>\n",
       "      <td>62000.0</td>\n",
       "      <td>(19.2,42.2)</td>\n",
       "    </tr>\n",
       "    <tr>\n",
       "      <th>2</th>\n",
       "      <td>Durres</td>\n",
       "      <td>AL</td>\n",
       "      <td>Albania</td>\n",
       "      <td>60000.0</td>\n",
       "      <td>(19.3,41.3)</td>\n",
       "    </tr>\n",
       "    <tr>\n",
       "      <th>3</th>\n",
       "      <td>Vlore</td>\n",
       "      <td>AL</td>\n",
       "      <td>Albania</td>\n",
       "      <td>56000.0</td>\n",
       "      <td>(19.3,40.3)</td>\n",
       "    </tr>\n",
       "    <tr>\n",
       "      <th>4</th>\n",
       "      <td>Elbasan</td>\n",
       "      <td>AL</td>\n",
       "      <td>Albania</td>\n",
       "      <td>53000.0</td>\n",
       "      <td>(20.1,41.1)</td>\n",
       "    </tr>\n",
       "    <tr>\n",
       "      <th>...</th>\n",
       "      <td>...</td>\n",
       "      <td>...</td>\n",
       "      <td>...</td>\n",
       "      <td>...</td>\n",
       "      <td>...</td>\n",
       "    </tr>\n",
       "    <tr>\n",
       "      <th>3106</th>\n",
       "      <td>Mbabane</td>\n",
       "      <td>SD</td>\n",
       "      <td>Swaziland</td>\n",
       "      <td>NaN</td>\n",
       "      <td>(31.1,-25)</td>\n",
       "    </tr>\n",
       "    <tr>\n",
       "      <th>3107</th>\n",
       "      <td>Saint-Denis</td>\n",
       "      <td>REUN</td>\n",
       "      <td>Reunion</td>\n",
       "      <td>158139.0</td>\n",
       "      <td>(55.5,-20.9)</td>\n",
       "    </tr>\n",
       "    <tr>\n",
       "      <th>3108</th>\n",
       "      <td>Jamestown</td>\n",
       "      <td>HELX</td>\n",
       "      <td>Saint Helena</td>\n",
       "      <td>NaN</td>\n",
       "      <td>(-5.44,-15.56)</td>\n",
       "    </tr>\n",
       "    <tr>\n",
       "      <th>3109</th>\n",
       "      <td>Sao Tome</td>\n",
       "      <td>STP</td>\n",
       "      <td>Sao Tome and Principe</td>\n",
       "      <td>NaN</td>\n",
       "      <td>(7,0)</td>\n",
       "    </tr>\n",
       "    <tr>\n",
       "      <th>3110</th>\n",
       "      <td>Victoria</td>\n",
       "      <td>SY</td>\n",
       "      <td>Seychelles</td>\n",
       "      <td>24570.0</td>\n",
       "      <td>(55.5,-4.65)</td>\n",
       "    </tr>\n",
       "  </tbody>\n",
       "</table>\n",
       "<p>3111 rows × 5 columns</p>\n",
       "</div>"
      ],
      "text/plain": [
       "             name country               province  population     coordinates\n",
       "0          Tirane      AL                Albania    192000.0     (19.8,41.3)\n",
       "1         Shkoder      AL                Albania     62000.0     (19.2,42.2)\n",
       "2          Durres      AL                Albania     60000.0     (19.3,41.3)\n",
       "3           Vlore      AL                Albania     56000.0     (19.3,40.3)\n",
       "4         Elbasan      AL                Albania     53000.0     (20.1,41.1)\n",
       "...           ...     ...                    ...         ...             ...\n",
       "3106      Mbabane      SD              Swaziland         NaN      (31.1,-25)\n",
       "3107  Saint-Denis    REUN                Reunion    158139.0    (55.5,-20.9)\n",
       "3108    Jamestown    HELX           Saint Helena         NaN  (-5.44,-15.56)\n",
       "3109     Sao Tome     STP  Sao Tome and Principe         NaN           (7,0)\n",
       "3110     Victoria      SY             Seychelles     24570.0    (55.5,-4.65)\n",
       "\n",
       "[3111 rows x 5 columns]"
      ]
     },
     "execution_count": 1,
     "metadata": {},
     "output_type": "execute_result"
    }
   ],
   "source": [
    "from sqlalchemy import create_engine\n",
    "import pandas\n",
    "\n",
    "%load_ext sql\n",
    "%sql postgresql+psycopg2://\n",
    "\n",
    "df = pandas.read_sql(\n",
    "    'Select * FROM city',\n",
    "    create_engine(\"postgresql+psycopg2://\")\n",
    ")\n",
    "df"
   ]
  },
  {
   "cell_type": "markdown",
   "metadata": {},
   "source": [
    "The result is a pandas dataframe object. We will now manipulate the dataframe and your task is to formulate equivalent SQL queries.\n",
    "## Task 8.1a) (1 Point)\n",
    "Convert the following dataframe expression to an equivalent SQL expression. Name the file 1a.sql and upload to praktomat. You can test your SQL expression in this interactive notebook by writing it in a new Cell prefixed with `%%sql`"
   ]
  },
  {
   "cell_type": "code",
   "execution_count": null,
   "metadata": {
    "jupyter": {
     "outputs_hidden": false
    }
   },
   "outputs": [],
   "source": [
    "df[['name','country','province']]"
   ]
  },
  {
   "cell_type": "markdown",
   "metadata": {},
   "source": [
    "Test your solution here and upload it to praktomat once you are satisfied for the final check.\n"
   ]
  },
  {
   "cell_type": "code",
   "execution_count": null,
   "metadata": {
    "jupyter": {
     "outputs_hidden": false
    }
   },
   "outputs": [],
   "source": [
    "%%sql\n",
    "SELECT *\n",
    "  FROM city\n",
    "  LIMIT 10"
   ]
  },
  {
   "cell_type": "markdown",
   "metadata": {},
   "source": [
    "## T8.1 b) (1 Point)\n",
    "\n",
    "Upload the solution as a file called `1b.sql`"
   ]
  },
  {
   "cell_type": "code",
   "execution_count": null,
   "metadata": {
    "jupyter": {
     "outputs_hidden": false
    }
   },
   "outputs": [],
   "source": [
    "df[df['country'] == 'D']"
   ]
  },
  {
   "cell_type": "markdown",
   "metadata": {},
   "source": [
    "## T8.1 c) (2 Points)\n",
    "\n",
    "Upload the soluation as a file called `1c.sql`"
   ]
  },
  {
   "cell_type": "code",
   "execution_count": null,
   "metadata": {
    "jupyter": {
     "outputs_hidden": false
    }
   },
   "outputs": [],
   "source": [
    "df[df[\"country\"] == \"D\"][[\"name\",\"population\"]].sort_values('population',ascending=False).head(5)"
   ]
  },
  {
   "cell_type": "markdown",
   "metadata": {},
   "source": [
    "## T8.1 d) (2 Points)\n",
    "\n",
    "Upload the solution as a file called `1d.sql`"
   ]
  },
  {
   "cell_type": "code",
   "execution_count": null,
   "metadata": {
    "jupyter": {
     "outputs_hidden": false
    }
   },
   "outputs": [],
   "source": [
    "import numpy\n",
    "df\\\n",
    "    .groupby('country')\\\n",
    "    .agg(\n",
    "    {'population':[numpy.sum,numpy.size],\n",
    "     'province': pandas.Series.nunique})"
   ]
  }
 ],
 "metadata": {
  "kernelspec": {
   "display_name": "Python 3 (ipykernel)",
   "language": "python",
   "name": "python3"
  },
  "language_info": {
   "codemirror_mode": {
    "name": "ipython",
    "version": 3
   },
   "file_extension": ".py",
   "mimetype": "text/x-python",
   "name": "python",
   "nbconvert_exporter": "python",
   "pygments_lexer": "ipython3",
   "version": "3.10.8"
  }
 },
 "nbformat": 4,
 "nbformat_minor": 4
}
