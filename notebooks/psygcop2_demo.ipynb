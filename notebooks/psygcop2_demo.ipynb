{
 "cells": [
  {
   "cell_type": "code",
   "execution_count": 1,
   "metadata": {},
   "outputs": [
    {
     "name": "stdout",
     "output_type": "stream",
     "text": [
      "1 Audi 52642\n",
      "2 Mercedes 57127\n",
      "3 Skoda 9000\n",
      "4 Volvo 29000\n",
      "5 Bentley 350000\n",
      "6 Citroen 21000\n",
      "7 Hummer 41400\n",
      "8 Volkswagen 21600\n"
     ]
    }
   ],
   "source": [
    "import psycopg2\n",
    "# Adapted from https://zetcode.com/python/psycopg2/\n",
    "cars = (\n",
    "    (1, 'Audi', 52642),\n",
    "    (2, 'Mercedes', 57127),\n",
    "    (3, 'Skoda', 9000),\n",
    "    (4, 'Volvo', 29000),\n",
    "    (5, 'Bentley', 350000),\n",
    "    (6, 'Citroen', 21000),\n",
    "    (7, 'Hummer', 41400),\n",
    "    (8, 'Volkswagen', 21600)\n",
    ")\n",
    "\n",
    "con = psycopg2.connect()\n",
    "\n",
    "with con:\n",
    "\n",
    "    cur = con.cursor()\n",
    "\n",
    "    cur.execute(\"DROP TABLE IF EXISTS cars\")\n",
    "    cur.execute(\"CREATE TABLE cars(id SERIAL PRIMARY KEY, name VARCHAR(255), price INT)\")\n",
    "\n",
    "    query = \"INSERT INTO cars (id, name, price) VALUES (%s, %s, %s)\"\n",
    "    cur.executemany(query, cars)\n",
    "\n",
    "    con.commit()\n",
    "    cur.execute(\"SELECT * FROM cars\")\n",
    "\n",
    "    rows = cur.fetchall()\n",
    "\n",
    "    for row in rows:\n",
    "        print(f\"{row[0]} {row[1]} {row[2]}\")"
   ]
  },
  {
   "cell_type": "code",
   "execution_count": null,
   "metadata": {},
   "outputs": [],
   "source": []
  }
 ],
 "metadata": {
  "kernelspec": {
   "display_name": "Python 3 (ipykernel)",
   "language": "python",
   "name": "python3"
  },
  "language_info": {
   "codemirror_mode": {
    "name": "ipython",
    "version": 3
   },
   "file_extension": ".py",
   "mimetype": "text/x-python",
   "name": "python",
   "nbconvert_exporter": "python",
   "pygments_lexer": "ipython3",
   "version": "3.10.8"
  }
 },
 "nbformat": 4,
 "nbformat_minor": 1
}
