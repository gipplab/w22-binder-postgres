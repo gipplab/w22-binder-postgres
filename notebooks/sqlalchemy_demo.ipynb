{
 "cells": [
  {
   "cell_type": "code",
   "execution_count": 1,
   "metadata": {
    "collapsed": true
   },
   "outputs": [],
   "source": [
    "%load_ext sql\n",
    "%sql postgresql+psycopg2://"
   ]
  },
  {
   "cell_type": "code",
   "execution_count": 1,
   "metadata": {},
   "outputs": [],
   "source": [
    "from sqlalchemy import create_engine\n",
    "from sqlalchemy import Column, String\n",
    "from sqlalchemy.ext.declarative import declarative_base\n",
    "from sqlalchemy.orm import sessionmaker\n",
    "\n",
    "engine = create_engine(\"postgresql+psycopg2://\",echo=True)\n",
    "base = declarative_base()"
   ]
  },
  {
   "cell_type": "code",
   "execution_count": 2,
   "metadata": {},
   "outputs": [
    {
     "name": "stdout",
     "output_type": "stream",
     "text": [
      "2022-12-16 08:16:34,842 INFO sqlalchemy.engine.Engine select pg_catalog.version()\n",
      "2022-12-16 08:16:34,843 INFO sqlalchemy.engine.Engine [raw sql] {}\n",
      "2022-12-16 08:16:34,850 INFO sqlalchemy.engine.Engine select current_schema()\n",
      "2022-12-16 08:16:34,851 INFO sqlalchemy.engine.Engine [raw sql] {}\n",
      "2022-12-16 08:16:34,854 INFO sqlalchemy.engine.Engine show standard_conforming_strings\n",
      "2022-12-16 08:16:34,855 INFO sqlalchemy.engine.Engine [raw sql] {}\n",
      "2022-12-16 08:16:34,856 INFO sqlalchemy.engine.Engine BEGIN (implicit)\n",
      "2022-12-16 08:16:34,857 INFO sqlalchemy.engine.Engine select relname from pg_class c join pg_namespace n on n.oid=c.relnamespace where pg_catalog.pg_table_is_visible(c.oid) and relname=%(name)s\n",
      "2022-12-16 08:16:34,858 INFO sqlalchemy.engine.Engine [generated in 0.00086s] {'name': 'films'}\n",
      "2022-12-16 08:16:34,864 INFO sqlalchemy.engine.Engine \n",
      "CREATE TABLE films (\n",
      "\ttitle VARCHAR NOT NULL, \n",
      "\tdirector VARCHAR, \n",
      "\tyear VARCHAR, \n",
      "\tPRIMARY KEY (title)\n",
      ")\n",
      "\n",
      "\n",
      "2022-12-16 08:16:34,865 INFO sqlalchemy.engine.Engine [no key 0.00082s] {}\n",
      "2022-12-16 08:16:34,927 INFO sqlalchemy.engine.Engine COMMIT\n",
      "2022-12-16 08:16:34,931 INFO sqlalchemy.engine.Engine BEGIN (implicit)\n",
      "2022-12-16 08:16:34,933 INFO sqlalchemy.engine.Engine INSERT INTO films (title, director, year) VALUES (%(title)s, %(director)s, %(year)s)\n",
      "2022-12-16 08:16:34,934 INFO sqlalchemy.engine.Engine [generated in 0.00120s] {'title': 'Doctor Strange', 'director': 'Scott Derrickson', 'year': '2016'}\n",
      "2022-12-16 08:16:34,937 INFO sqlalchemy.engine.Engine COMMIT\n"
     ]
    }
   ],
   "source": [
    "class Film(base):\n",
    "    __tablename__ = 'films'\n",
    "\n",
    "    title = Column(String, primary_key=True)\n",
    "    director = Column(String)\n",
    "    year = Column(String)\n",
    "\n",
    "Session = sessionmaker(engine)\n",
    "session = Session()\n",
    "\n",
    "base.metadata.create_all(engine)\n",
    "# Create\n",
    "doctor_strange = Film(title=\"Doctor Strange\",\n",
    "                      director=\"Scott Derrickson\",\n",
    "                      year=\"2016\")\n",
    "session.add(doctor_strange)\n",
    "session.commit()"
   ]
  },
  {
   "cell_type": "code",
   "execution_count": 4,
   "metadata": {},
   "outputs": [
    {
     "name": "stdout",
     "output_type": "stream",
     "text": [
      "2022-12-16 11:55:54,016 INFO sqlalchemy.engine.Engine BEGIN (implicit)\n",
      "2022-12-16 11:55:54,018 INFO sqlalchemy.engine.Engine SELECT films.title AS films_title, films.director AS films_director, films.year AS films_year \n",
      "FROM films\n",
      "2022-12-16 11:55:54,019 INFO sqlalchemy.engine.Engine [generated in 0.00117s] {}\n",
      "Some2016Film\n"
     ]
    }
   ],
   "source": [
    "films = session.query(Film)\n",
    "for film in films:\n",
    "    print(film.title)"
   ]
  },
  {
   "cell_type": "code",
   "execution_count": 3,
   "metadata": {},
   "outputs": [
    {
     "name": "stdout",
     "output_type": "stream",
     "text": [
      "2022-12-16 11:55:50,580 INFO sqlalchemy.engine.Engine BEGIN (implicit)\n",
      "2022-12-16 11:55:50,584 INFO sqlalchemy.engine.Engine SELECT films.title AS films_title, films.director AS films_director, films.year AS films_year \n",
      "FROM films \n",
      "WHERE films.title = %(pk_1)s\n",
      "2022-12-16 11:55:50,585 INFO sqlalchemy.engine.Engine [generated in 0.00096s] {'pk_1': 'Doctor Strange'}\n",
      "2022-12-16 11:55:50,601 INFO sqlalchemy.engine.Engine UPDATE films SET title=%(title)s WHERE films.title = %(films_title)s\n",
      "2022-12-16 11:55:50,602 INFO sqlalchemy.engine.Engine [generated in 0.00098s] {'title': 'Some2016Film', 'films_title': 'Doctor Strange'}\n",
      "2022-12-16 11:55:50,606 INFO sqlalchemy.engine.Engine COMMIT\n"
     ]
    }
   ],
   "source": [
    "doctor_strange.title = \"Some2016Film\"\n",
    "session.commit()"
   ]
  },
  {
   "cell_type": "code",
   "execution_count": null,
   "metadata": {},
   "outputs": [
    {
     "name": "stdout",
     "output_type": "stream",
     "text": [
      " * postgresql+psycopg2://\n"
     ]
    }
   ],
   "source": [
    "%sql DROP table films"
   ]
  },
  {
   "cell_type": "code",
   "execution_count": null,
   "metadata": {},
   "outputs": [],
   "source": []
  }
 ],
 "metadata": {
  "kernelspec": {
   "display_name": "Python 3 (ipykernel)",
   "language": "python",
   "name": "python3"
  },
  "language_info": {
   "codemirror_mode": {
    "name": "ipython",
    "version": 3
   },
   "file_extension": ".py",
   "mimetype": "text/x-python",
   "name": "python",
   "nbconvert_exporter": "python",
   "pygments_lexer": "ipython3",
   "version": "3.10.8"
  }
 },
 "nbformat": 4,
 "nbformat_minor": 1
}
