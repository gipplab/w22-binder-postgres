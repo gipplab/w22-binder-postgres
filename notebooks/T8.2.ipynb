{
 "cells": [
  {
   "cell_type": "markdown",
   "metadata": {},
   "source": [
    "# Task 8.2 SQL to Dataframe (7 Points)"
   ]
  },
  {
   "cell_type": "markdown",
   "metadata": {},
   "source": [
    "This task is about converting from SQL queries to pandas Dataframe queries. At first, we create a connection to the database and work on the table 'lake' from the mondial schema.\n",
    "*Please complete all exercises within this sheet, download the notebook as Python and upload it to praktomat.*"
   ]
  },
  {
   "cell_type": "code",
   "execution_count": 14,
   "metadata": {},
   "outputs": [
    {
     "name": "stdout",
     "output_type": "stream",
     "text": [
      "The sql extension is already loaded. To reload it, use:\n",
      "  %reload_ext sql\n"
     ]
    }
   ],
   "source": [
    "from sqlalchemy import create_engine\n",
    "import pandas\n",
    "\n",
    "%load_ext sql\n",
    "%sql postgresql+psycopg2://\n",
    "\n",
    "df = pandas.read_sql(\n",
    "    'Select * FROM lake',\n",
    "    create_engine(\"postgresql+psycopg2://\")\n",
    ")"
   ]
  },
  {
   "cell_type": "markdown",
   "metadata": {},
   "source": [
    "## Task 8.2a) (1 Point)\n",
    "Convert the following SQL expression to an equivalent dataframe expression."
   ]
  },
  {
   "cell_type": "code",
   "execution_count": 15,
   "outputs": [
    {
     "name": "stdout",
     "output_type": "stream",
     "text": [
      " * postgresql+psycopg2://\n",
      "130 rows affected.\n"
     ]
    },
    {
     "data": {
      "text/plain": "[('Inari', Decimal('92')),\n ('Oulujaervi', Decimal('35')),\n ('Kallavesi', None),\n ('Saimaa', Decimal('85')),\n ('Paeijaenne', Decimal('95')),\n ('Mjoesa-See', Decimal('449')),\n ('Storuman', Decimal('139')),\n ('Siljan', Decimal('134')),\n ('Maelaren', Decimal('66')),\n ('Vaenern', Decimal('106')),\n ('Vaettern', Decimal('119')),\n ('Arresoe', Decimal('5.6')),\n ('Loch Ness', Decimal('226')),\n ('Loch Lomond', Decimal('190')),\n ('Bodensee', Decimal('254')),\n ('Chiemsee', Decimal('73')),\n ('Starnberger See', Decimal('127.7')),\n ('Ammersee', Decimal('81.1')),\n ('Laacher Maar', Decimal('53')),\n ('Lac Leman', Decimal('310')),\n ('Zurichsee', Decimal('136')),\n ('Thunersee', Decimal('217')),\n ('Brienzersee', Decimal('260')),\n ('Vierwaldstattersee', Decimal('214')),\n ('Lago di Garda ', Decimal('346')),\n ('Lago Maggiore', Decimal('372')),\n ('Lago di Como', Decimal('425')),\n ('Lago Trasimeno', Decimal('7')),\n ('Lago di Bolsena', Decimal('151')),\n ('Lago di Bracciano', Decimal('160')),\n ('Neusiedlersee', Decimal('1.8')),\n ('Balaton', Decimal('12.5')),\n ('Lake Skutari', Decimal('44')),\n ('Lake Prespa', Decimal('54')),\n ('Lake Ohrid', Decimal('289')),\n ('Dead Sea', Decimal('378')),\n ('Lake Genezareth', Decimal('46')),\n ('Lake Van', Decimal('457')),\n ('Lake Keban', None),\n ('Lake Urmia', Decimal('7')),\n ('Daryacheh ye Namak', Decimal('1')),\n ('Hamun e Jaz Murian', None),\n ('Caspian Sea', Decimal('995')),\n ('Ozero Aral', Decimal('35')),\n ('Ozero Balchash', Decimal('26')),\n ('Issyk-Kul', Decimal('668')),\n ('Lop Nor', Decimal('0')),\n ('Lake Toba', Decimal('505')),\n ('Ozero Ladoga', Decimal('225')),\n ('Ozero Onega', Decimal('127')),\n ('Ozero Pskovskoje', Decimal('14.6')),\n ('Ozero Baikal', Decimal('1637')),\n ('Ozero Taimyr', Decimal('26')),\n ('Ozero Chanka', None),\n ('Ozero Tschany', Decimal('106')),\n ('Qinghai Lake', None),\n ('Nam Co', Decimal('125')),\n ('Lake Nasser', Decimal('180')),\n ('Lake Volta', Decimal('130')),\n ('Lake Bosumtwi', Decimal('81')),\n ('Lake Kainji', None),\n ('Chad Lake', Decimal('7')),\n ('Barrage de Mbakaou', None),\n ('Lake Nyos', Decimal('208')),\n ('Lac Assal', None),\n ('Lake Abbe', Decimal('37')),\n ('Lake Abaya', Decimal('13')),\n ('Chew Bahir', Decimal('7.5')),\n ('Lake Turkana', Decimal('73')),\n ('Lake Tana', Decimal('14')),\n ('Lake Sese Seko/Albertsee', Decimal('48')),\n ('Rutanzige/Eduardsee', Decimal('112')),\n ('Lake Kioga', Decimal('5.7')),\n ('Lake Victoria', Decimal('85')),\n ('Lake Kivu', Decimal('450')),\n ('Lake Tanganjika', Decimal('1470')),\n ('Lake Mweru', Decimal('27')),\n ('Lake Bangweulu', Decimal('4')),\n ('Lake Rukwa', Decimal('5')),\n ('Lake Eyasi', None),\n ('Lake Natron', Decimal('2')),\n ('Lake Malawi', Decimal('704')),\n ('Lake Chilwa', Decimal('2')),\n ('Lake Mai Ndombe', Decimal('10')),\n ('Lake Cabora-Bassa', None),\n ('Lake Kariba', Decimal('32')),\n ('Lake Ngami', Decimal('2')),\n ('Etoscha Salt Pan', Decimal('0')),\n ('Makarikari Salt Pan', Decimal('0')),\n ('Great Bear Lake', Decimal('446')),\n ('Great Slave Lake', Decimal('614')),\n ('Atlin Lake', Decimal('283')),\n ('Lake Winnipeg', Decimal('18')),\n ('Lake Nipigon', Decimal('165')),\n ('Lake Manicouagan', None),\n ('Lake Ontario', Decimal('244')),\n ('Lake Erie', Decimal('64')),\n ('Lake Huron', Decimal('229')),\n ('Lake Manitou', None),\n ('Lake Michigan', Decimal('281')),\n ('Lake Superior', Decimal('405')),\n ('Lake Champlain', Decimal('121')),\n ('Lake Winnipesaukee', Decimal('55')),\n ('Lake Okeechobee', Decimal('4')),\n ('Franklin. D. Roosevelt Lake', None),\n ('Crater Lake', Decimal('594')),\n ('Great Salt Lake', Decimal('10')),\n ('Lake Tahoe', Decimal('501')),\n ('Pyramid Lake', Decimal('108')),\n ('Lake Powell', Decimal('171')),\n ('Lake Mead', Decimal('180')),\n ('Fort Peck Lake', Decimal('67')),\n ('Lake Sakakawea', Decimal('55')),\n ('Lake Oahe', None),\n ('Lago de Chapala', Decimal('12')),\n ('Lake Nicaragua', Decimal('45')),\n ('Lake Managua', Decimal('20')),\n ('Lake Irazu', None),\n ('Lake Maracaibo', Decimal('50')),\n ('Lago de Sobradinho', None),\n ('Lake Titicaca', Decimal('281')),\n ('Poopo', Decimal('4')),\n ('Salar de Uyuni', Decimal('0')),\n ('Licancabur Crater Lake', None),\n ('Laguna Mar Chiquita', Decimal('19')),\n ('Lake Eyre', Decimal('4')),\n ('Lake Burley Griffin', None),\n ('Lake Hume', None),\n ('Kentucky Lake', None),\n ('Chickamauga Lake', None)]",
      "text/html": "<table>\n    <tr>\n        <th>name</th>\n        <th>depth</th>\n    </tr>\n    <tr>\n        <td>Inari</td>\n        <td>92</td>\n    </tr>\n    <tr>\n        <td>Oulujaervi</td>\n        <td>35</td>\n    </tr>\n    <tr>\n        <td>Kallavesi</td>\n        <td>None</td>\n    </tr>\n    <tr>\n        <td>Saimaa</td>\n        <td>85</td>\n    </tr>\n    <tr>\n        <td>Paeijaenne</td>\n        <td>95</td>\n    </tr>\n    <tr>\n        <td>Mjoesa-See</td>\n        <td>449</td>\n    </tr>\n    <tr>\n        <td>Storuman</td>\n        <td>139</td>\n    </tr>\n    <tr>\n        <td>Siljan</td>\n        <td>134</td>\n    </tr>\n    <tr>\n        <td>Maelaren</td>\n        <td>66</td>\n    </tr>\n    <tr>\n        <td>Vaenern</td>\n        <td>106</td>\n    </tr>\n    <tr>\n        <td>Vaettern</td>\n        <td>119</td>\n    </tr>\n    <tr>\n        <td>Arresoe</td>\n        <td>5.6</td>\n    </tr>\n    <tr>\n        <td>Loch Ness</td>\n        <td>226</td>\n    </tr>\n    <tr>\n        <td>Loch Lomond</td>\n        <td>190</td>\n    </tr>\n    <tr>\n        <td>Bodensee</td>\n        <td>254</td>\n    </tr>\n    <tr>\n        <td>Chiemsee</td>\n        <td>73</td>\n    </tr>\n    <tr>\n        <td>Starnberger See</td>\n        <td>127.7</td>\n    </tr>\n    <tr>\n        <td>Ammersee</td>\n        <td>81.1</td>\n    </tr>\n    <tr>\n        <td>Laacher Maar</td>\n        <td>53</td>\n    </tr>\n    <tr>\n        <td>Lac Leman</td>\n        <td>310</td>\n    </tr>\n    <tr>\n        <td>Zurichsee</td>\n        <td>136</td>\n    </tr>\n    <tr>\n        <td>Thunersee</td>\n        <td>217</td>\n    </tr>\n    <tr>\n        <td>Brienzersee</td>\n        <td>260</td>\n    </tr>\n    <tr>\n        <td>Vierwaldstattersee</td>\n        <td>214</td>\n    </tr>\n    <tr>\n        <td>Lago di Garda </td>\n        <td>346</td>\n    </tr>\n    <tr>\n        <td>Lago Maggiore</td>\n        <td>372</td>\n    </tr>\n    <tr>\n        <td>Lago di Como</td>\n        <td>425</td>\n    </tr>\n    <tr>\n        <td>Lago Trasimeno</td>\n        <td>7</td>\n    </tr>\n    <tr>\n        <td>Lago di Bolsena</td>\n        <td>151</td>\n    </tr>\n    <tr>\n        <td>Lago di Bracciano</td>\n        <td>160</td>\n    </tr>\n    <tr>\n        <td>Neusiedlersee</td>\n        <td>1.8</td>\n    </tr>\n    <tr>\n        <td>Balaton</td>\n        <td>12.5</td>\n    </tr>\n    <tr>\n        <td>Lake Skutari</td>\n        <td>44</td>\n    </tr>\n    <tr>\n        <td>Lake Prespa</td>\n        <td>54</td>\n    </tr>\n    <tr>\n        <td>Lake Ohrid</td>\n        <td>289</td>\n    </tr>\n    <tr>\n        <td>Dead Sea</td>\n        <td>378</td>\n    </tr>\n    <tr>\n        <td>Lake Genezareth</td>\n        <td>46</td>\n    </tr>\n    <tr>\n        <td>Lake Van</td>\n        <td>457</td>\n    </tr>\n    <tr>\n        <td>Lake Keban</td>\n        <td>None</td>\n    </tr>\n    <tr>\n        <td>Lake Urmia</td>\n        <td>7</td>\n    </tr>\n    <tr>\n        <td>Daryacheh ye Namak</td>\n        <td>1</td>\n    </tr>\n    <tr>\n        <td>Hamun e Jaz Murian</td>\n        <td>None</td>\n    </tr>\n    <tr>\n        <td>Caspian Sea</td>\n        <td>995</td>\n    </tr>\n    <tr>\n        <td>Ozero Aral</td>\n        <td>35</td>\n    </tr>\n    <tr>\n        <td>Ozero Balchash</td>\n        <td>26</td>\n    </tr>\n    <tr>\n        <td>Issyk-Kul</td>\n        <td>668</td>\n    </tr>\n    <tr>\n        <td>Lop Nor</td>\n        <td>0</td>\n    </tr>\n    <tr>\n        <td>Lake Toba</td>\n        <td>505</td>\n    </tr>\n    <tr>\n        <td>Ozero Ladoga</td>\n        <td>225</td>\n    </tr>\n    <tr>\n        <td>Ozero Onega</td>\n        <td>127</td>\n    </tr>\n    <tr>\n        <td>Ozero Pskovskoje</td>\n        <td>14.6</td>\n    </tr>\n    <tr>\n        <td>Ozero Baikal</td>\n        <td>1637</td>\n    </tr>\n    <tr>\n        <td>Ozero Taimyr</td>\n        <td>26</td>\n    </tr>\n    <tr>\n        <td>Ozero Chanka</td>\n        <td>None</td>\n    </tr>\n    <tr>\n        <td>Ozero Tschany</td>\n        <td>106</td>\n    </tr>\n    <tr>\n        <td>Qinghai Lake</td>\n        <td>None</td>\n    </tr>\n    <tr>\n        <td>Nam Co</td>\n        <td>125</td>\n    </tr>\n    <tr>\n        <td>Lake Nasser</td>\n        <td>180</td>\n    </tr>\n    <tr>\n        <td>Lake Volta</td>\n        <td>130</td>\n    </tr>\n    <tr>\n        <td>Lake Bosumtwi</td>\n        <td>81</td>\n    </tr>\n    <tr>\n        <td>Lake Kainji</td>\n        <td>None</td>\n    </tr>\n    <tr>\n        <td>Chad Lake</td>\n        <td>7</td>\n    </tr>\n    <tr>\n        <td>Barrage de Mbakaou</td>\n        <td>None</td>\n    </tr>\n    <tr>\n        <td>Lake Nyos</td>\n        <td>208</td>\n    </tr>\n    <tr>\n        <td>Lac Assal</td>\n        <td>None</td>\n    </tr>\n    <tr>\n        <td>Lake Abbe</td>\n        <td>37</td>\n    </tr>\n    <tr>\n        <td>Lake Abaya</td>\n        <td>13</td>\n    </tr>\n    <tr>\n        <td>Chew Bahir</td>\n        <td>7.5</td>\n    </tr>\n    <tr>\n        <td>Lake Turkana</td>\n        <td>73</td>\n    </tr>\n    <tr>\n        <td>Lake Tana</td>\n        <td>14</td>\n    </tr>\n    <tr>\n        <td>Lake Sese Seko/Albertsee</td>\n        <td>48</td>\n    </tr>\n    <tr>\n        <td>Rutanzige/Eduardsee</td>\n        <td>112</td>\n    </tr>\n    <tr>\n        <td>Lake Kioga</td>\n        <td>5.7</td>\n    </tr>\n    <tr>\n        <td>Lake Victoria</td>\n        <td>85</td>\n    </tr>\n    <tr>\n        <td>Lake Kivu</td>\n        <td>450</td>\n    </tr>\n    <tr>\n        <td>Lake Tanganjika</td>\n        <td>1470</td>\n    </tr>\n    <tr>\n        <td>Lake Mweru</td>\n        <td>27</td>\n    </tr>\n    <tr>\n        <td>Lake Bangweulu</td>\n        <td>4</td>\n    </tr>\n    <tr>\n        <td>Lake Rukwa</td>\n        <td>5</td>\n    </tr>\n    <tr>\n        <td>Lake Eyasi</td>\n        <td>None</td>\n    </tr>\n    <tr>\n        <td>Lake Natron</td>\n        <td>2</td>\n    </tr>\n    <tr>\n        <td>Lake Malawi</td>\n        <td>704</td>\n    </tr>\n    <tr>\n        <td>Lake Chilwa</td>\n        <td>2</td>\n    </tr>\n    <tr>\n        <td>Lake Mai Ndombe</td>\n        <td>10</td>\n    </tr>\n    <tr>\n        <td>Lake Cabora-Bassa</td>\n        <td>None</td>\n    </tr>\n    <tr>\n        <td>Lake Kariba</td>\n        <td>32</td>\n    </tr>\n    <tr>\n        <td>Lake Ngami</td>\n        <td>2</td>\n    </tr>\n    <tr>\n        <td>Etoscha Salt Pan</td>\n        <td>0</td>\n    </tr>\n    <tr>\n        <td>Makarikari Salt Pan</td>\n        <td>0</td>\n    </tr>\n    <tr>\n        <td>Great Bear Lake</td>\n        <td>446</td>\n    </tr>\n    <tr>\n        <td>Great Slave Lake</td>\n        <td>614</td>\n    </tr>\n    <tr>\n        <td>Atlin Lake</td>\n        <td>283</td>\n    </tr>\n    <tr>\n        <td>Lake Winnipeg</td>\n        <td>18</td>\n    </tr>\n    <tr>\n        <td>Lake Nipigon</td>\n        <td>165</td>\n    </tr>\n    <tr>\n        <td>Lake Manicouagan</td>\n        <td>None</td>\n    </tr>\n    <tr>\n        <td>Lake Ontario</td>\n        <td>244</td>\n    </tr>\n    <tr>\n        <td>Lake Erie</td>\n        <td>64</td>\n    </tr>\n    <tr>\n        <td>Lake Huron</td>\n        <td>229</td>\n    </tr>\n    <tr>\n        <td>Lake Manitou</td>\n        <td>None</td>\n    </tr>\n    <tr>\n        <td>Lake Michigan</td>\n        <td>281</td>\n    </tr>\n    <tr>\n        <td>Lake Superior</td>\n        <td>405</td>\n    </tr>\n    <tr>\n        <td>Lake Champlain</td>\n        <td>121</td>\n    </tr>\n    <tr>\n        <td>Lake Winnipesaukee</td>\n        <td>55</td>\n    </tr>\n    <tr>\n        <td>Lake Okeechobee</td>\n        <td>4</td>\n    </tr>\n    <tr>\n        <td>Franklin. D. Roosevelt Lake</td>\n        <td>None</td>\n    </tr>\n    <tr>\n        <td>Crater Lake</td>\n        <td>594</td>\n    </tr>\n    <tr>\n        <td>Great Salt Lake</td>\n        <td>10</td>\n    </tr>\n    <tr>\n        <td>Lake Tahoe</td>\n        <td>501</td>\n    </tr>\n    <tr>\n        <td>Pyramid Lake</td>\n        <td>108</td>\n    </tr>\n    <tr>\n        <td>Lake Powell</td>\n        <td>171</td>\n    </tr>\n    <tr>\n        <td>Lake Mead</td>\n        <td>180</td>\n    </tr>\n    <tr>\n        <td>Fort Peck Lake</td>\n        <td>67</td>\n    </tr>\n    <tr>\n        <td>Lake Sakakawea</td>\n        <td>55</td>\n    </tr>\n    <tr>\n        <td>Lake Oahe</td>\n        <td>None</td>\n    </tr>\n    <tr>\n        <td>Lago de Chapala</td>\n        <td>12</td>\n    </tr>\n    <tr>\n        <td>Lake Nicaragua</td>\n        <td>45</td>\n    </tr>\n    <tr>\n        <td>Lake Managua</td>\n        <td>20</td>\n    </tr>\n    <tr>\n        <td>Lake Irazu</td>\n        <td>None</td>\n    </tr>\n    <tr>\n        <td>Lake Maracaibo</td>\n        <td>50</td>\n    </tr>\n    <tr>\n        <td>Lago de Sobradinho</td>\n        <td>None</td>\n    </tr>\n    <tr>\n        <td>Lake Titicaca</td>\n        <td>281</td>\n    </tr>\n    <tr>\n        <td>Poopo</td>\n        <td>4</td>\n    </tr>\n    <tr>\n        <td>Salar de Uyuni</td>\n        <td>0</td>\n    </tr>\n    <tr>\n        <td>Licancabur Crater Lake</td>\n        <td>None</td>\n    </tr>\n    <tr>\n        <td>Laguna Mar Chiquita</td>\n        <td>19</td>\n    </tr>\n    <tr>\n        <td>Lake Eyre</td>\n        <td>4</td>\n    </tr>\n    <tr>\n        <td>Lake Burley Griffin</td>\n        <td>None</td>\n    </tr>\n    <tr>\n        <td>Lake Hume</td>\n        <td>None</td>\n    </tr>\n    <tr>\n        <td>Kentucky Lake</td>\n        <td>None</td>\n    </tr>\n    <tr>\n        <td>Chickamauga Lake</td>\n        <td>None</td>\n    </tr>\n</table>"
     },
     "execution_count": 15,
     "metadata": {},
     "output_type": "execute_result"
    }
   ],
   "source": [
    "%sql SELECT name, depth FROM lake"
   ],
   "metadata": {
    "collapsed": false
   }
  },
  {
   "cell_type": "markdown",
   "metadata": {},
   "source": [
    "Modify the cell blow and upload the entire file for all tasks a-d to praktomat once you are satisfied th final grade will be done by the tutors. If you stop working please download the current state of your work.\n"
   ]
  },
  {
   "cell_type": "code",
   "execution_count": 16,
   "metadata": {},
   "outputs": [
    {
     "data": {
      "text/plain": "                    name     area  depth  altitude        type  \\\n0                  Inari  1040.00   92.0     119.0        None   \n1             Oulujaervi   928.00   35.0     123.0        None   \n2              Kallavesi   472.00    NaN       NaN        None   \n3                 Saimaa  4370.00   85.0      76.0        None   \n4             Paeijaenne  1118.00   95.0      78.0        None   \n..                   ...      ...    ...       ...         ...   \n125            Lake Eyre  9500.00    4.0     -17.0        salt   \n126  Lake Burley Griffin     6.64    NaN     556.0  artificial   \n127            Lake Hume   202.00    NaN       NaN        None   \n128        Kentucky Lake   648.00    NaN       NaN        None   \n129     Chickamauga Lake   147.00    NaN       NaN        None   \n\n                  river    coordinates  \n0             Paatsjoki   (27.7,68.95)  \n1              Oulujoki   (27.25,64.3)  \n2                Vuoksi    (27.7,62.9)  \n3                Vuoksi    (28.0,61.3)  \n4              Kymijoki    (25.4,61.5)  \n..                  ...            ...  \n125                None  (137.3,-28.6)  \n126  Murrumbidgee River  (149.1,-35.3)  \n127        Murray River    (147,-36.1)  \n128           Tennessee     (-88.3,37)  \n129           Tennessee   (-85.0,35.4)  \n\n[130 rows x 7 columns]",
      "text/html": "<div>\n<style scoped>\n    .dataframe tbody tr th:only-of-type {\n        vertical-align: middle;\n    }\n\n    .dataframe tbody tr th {\n        vertical-align: top;\n    }\n\n    .dataframe thead th {\n        text-align: right;\n    }\n</style>\n<table border=\"1\" class=\"dataframe\">\n  <thead>\n    <tr style=\"text-align: right;\">\n      <th></th>\n      <th>name</th>\n      <th>area</th>\n      <th>depth</th>\n      <th>altitude</th>\n      <th>type</th>\n      <th>river</th>\n      <th>coordinates</th>\n    </tr>\n  </thead>\n  <tbody>\n    <tr>\n      <th>0</th>\n      <td>Inari</td>\n      <td>1040.00</td>\n      <td>92.0</td>\n      <td>119.0</td>\n      <td>None</td>\n      <td>Paatsjoki</td>\n      <td>(27.7,68.95)</td>\n    </tr>\n    <tr>\n      <th>1</th>\n      <td>Oulujaervi</td>\n      <td>928.00</td>\n      <td>35.0</td>\n      <td>123.0</td>\n      <td>None</td>\n      <td>Oulujoki</td>\n      <td>(27.25,64.3)</td>\n    </tr>\n    <tr>\n      <th>2</th>\n      <td>Kallavesi</td>\n      <td>472.00</td>\n      <td>NaN</td>\n      <td>NaN</td>\n      <td>None</td>\n      <td>Vuoksi</td>\n      <td>(27.7,62.9)</td>\n    </tr>\n    <tr>\n      <th>3</th>\n      <td>Saimaa</td>\n      <td>4370.00</td>\n      <td>85.0</td>\n      <td>76.0</td>\n      <td>None</td>\n      <td>Vuoksi</td>\n      <td>(28.0,61.3)</td>\n    </tr>\n    <tr>\n      <th>4</th>\n      <td>Paeijaenne</td>\n      <td>1118.00</td>\n      <td>95.0</td>\n      <td>78.0</td>\n      <td>None</td>\n      <td>Kymijoki</td>\n      <td>(25.4,61.5)</td>\n    </tr>\n    <tr>\n      <th>...</th>\n      <td>...</td>\n      <td>...</td>\n      <td>...</td>\n      <td>...</td>\n      <td>...</td>\n      <td>...</td>\n      <td>...</td>\n    </tr>\n    <tr>\n      <th>125</th>\n      <td>Lake Eyre</td>\n      <td>9500.00</td>\n      <td>4.0</td>\n      <td>-17.0</td>\n      <td>salt</td>\n      <td>None</td>\n      <td>(137.3,-28.6)</td>\n    </tr>\n    <tr>\n      <th>126</th>\n      <td>Lake Burley Griffin</td>\n      <td>6.64</td>\n      <td>NaN</td>\n      <td>556.0</td>\n      <td>artificial</td>\n      <td>Murrumbidgee River</td>\n      <td>(149.1,-35.3)</td>\n    </tr>\n    <tr>\n      <th>127</th>\n      <td>Lake Hume</td>\n      <td>202.00</td>\n      <td>NaN</td>\n      <td>NaN</td>\n      <td>None</td>\n      <td>Murray River</td>\n      <td>(147,-36.1)</td>\n    </tr>\n    <tr>\n      <th>128</th>\n      <td>Kentucky Lake</td>\n      <td>648.00</td>\n      <td>NaN</td>\n      <td>NaN</td>\n      <td>None</td>\n      <td>Tennessee</td>\n      <td>(-88.3,37)</td>\n    </tr>\n    <tr>\n      <th>129</th>\n      <td>Chickamauga Lake</td>\n      <td>147.00</td>\n      <td>NaN</td>\n      <td>NaN</td>\n      <td>None</td>\n      <td>Tennessee</td>\n      <td>(-85.0,35.4)</td>\n    </tr>\n  </tbody>\n</table>\n<p>130 rows × 7 columns</p>\n</div>"
     },
     "execution_count": 16,
     "metadata": {},
     "output_type": "execute_result"
    }
   ],
   "source": [
    "df"
   ]
  },
  {
   "cell_type": "markdown",
   "metadata": {},
   "source": [
    "## T8.2 b) (1 Point)"
   ]
  },
  {
   "cell_type": "code",
   "execution_count": 17,
   "metadata": {},
   "outputs": [
    {
     "name": "stdout",
     "output_type": "stream",
     "text": [
      " * postgresql+psycopg2://\n",
      "10 rows affected.\n"
     ]
    },
    {
     "data": {
      "text/plain": "[('Barrage de Mbakaou', None),\n ('Lake Nyos', None),\n ('Caspian Sea', Decimal('386400')),\n ('Lake Superior', Decimal('82103')),\n ('Lake Victoria', Decimal('68870')),\n ('Lake Huron', Decimal('59600')),\n ('Lake Michigan', Decimal('57800')),\n ('Dead Sea', Decimal('41650')),\n ('Lake Tanganjika', Decimal('32893')),\n ('Great Bear Lake', Decimal('31792'))]",
      "text/html": "<table>\n    <tr>\n        <th>name</th>\n        <th>area</th>\n    </tr>\n    <tr>\n        <td>Barrage de Mbakaou</td>\n        <td>None</td>\n    </tr>\n    <tr>\n        <td>Lake Nyos</td>\n        <td>None</td>\n    </tr>\n    <tr>\n        <td>Caspian Sea</td>\n        <td>386400</td>\n    </tr>\n    <tr>\n        <td>Lake Superior</td>\n        <td>82103</td>\n    </tr>\n    <tr>\n        <td>Lake Victoria</td>\n        <td>68870</td>\n    </tr>\n    <tr>\n        <td>Lake Huron</td>\n        <td>59600</td>\n    </tr>\n    <tr>\n        <td>Lake Michigan</td>\n        <td>57800</td>\n    </tr>\n    <tr>\n        <td>Dead Sea</td>\n        <td>41650</td>\n    </tr>\n    <tr>\n        <td>Lake Tanganjika</td>\n        <td>32893</td>\n    </tr>\n    <tr>\n        <td>Great Bear Lake</td>\n        <td>31792</td>\n    </tr>\n</table>"
     },
     "execution_count": 17,
     "metadata": {},
     "output_type": "execute_result"
    }
   ],
   "source": [
    "%sql SELECT name, area FROM lake ORDER by area desc LIMIT 10"
   ]
  },
  {
   "cell_type": "code",
   "execution_count": 18,
   "metadata": {},
   "outputs": [
    {
     "data": {
      "text/plain": "                    name     area  depth  altitude        type  \\\n0                  Inari  1040.00   92.0     119.0        None   \n1             Oulujaervi   928.00   35.0     123.0        None   \n2              Kallavesi   472.00    NaN       NaN        None   \n3                 Saimaa  4370.00   85.0      76.0        None   \n4             Paeijaenne  1118.00   95.0      78.0        None   \n..                   ...      ...    ...       ...         ...   \n125            Lake Eyre  9500.00    4.0     -17.0        salt   \n126  Lake Burley Griffin     6.64    NaN     556.0  artificial   \n127            Lake Hume   202.00    NaN       NaN        None   \n128        Kentucky Lake   648.00    NaN       NaN        None   \n129     Chickamauga Lake   147.00    NaN       NaN        None   \n\n                  river    coordinates  \n0             Paatsjoki   (27.7,68.95)  \n1              Oulujoki   (27.25,64.3)  \n2                Vuoksi    (27.7,62.9)  \n3                Vuoksi    (28.0,61.3)  \n4              Kymijoki    (25.4,61.5)  \n..                  ...            ...  \n125                None  (137.3,-28.6)  \n126  Murrumbidgee River  (149.1,-35.3)  \n127        Murray River    (147,-36.1)  \n128           Tennessee     (-88.3,37)  \n129           Tennessee   (-85.0,35.4)  \n\n[130 rows x 7 columns]",
      "text/html": "<div>\n<style scoped>\n    .dataframe tbody tr th:only-of-type {\n        vertical-align: middle;\n    }\n\n    .dataframe tbody tr th {\n        vertical-align: top;\n    }\n\n    .dataframe thead th {\n        text-align: right;\n    }\n</style>\n<table border=\"1\" class=\"dataframe\">\n  <thead>\n    <tr style=\"text-align: right;\">\n      <th></th>\n      <th>name</th>\n      <th>area</th>\n      <th>depth</th>\n      <th>altitude</th>\n      <th>type</th>\n      <th>river</th>\n      <th>coordinates</th>\n    </tr>\n  </thead>\n  <tbody>\n    <tr>\n      <th>0</th>\n      <td>Inari</td>\n      <td>1040.00</td>\n      <td>92.0</td>\n      <td>119.0</td>\n      <td>None</td>\n      <td>Paatsjoki</td>\n      <td>(27.7,68.95)</td>\n    </tr>\n    <tr>\n      <th>1</th>\n      <td>Oulujaervi</td>\n      <td>928.00</td>\n      <td>35.0</td>\n      <td>123.0</td>\n      <td>None</td>\n      <td>Oulujoki</td>\n      <td>(27.25,64.3)</td>\n    </tr>\n    <tr>\n      <th>2</th>\n      <td>Kallavesi</td>\n      <td>472.00</td>\n      <td>NaN</td>\n      <td>NaN</td>\n      <td>None</td>\n      <td>Vuoksi</td>\n      <td>(27.7,62.9)</td>\n    </tr>\n    <tr>\n      <th>3</th>\n      <td>Saimaa</td>\n      <td>4370.00</td>\n      <td>85.0</td>\n      <td>76.0</td>\n      <td>None</td>\n      <td>Vuoksi</td>\n      <td>(28.0,61.3)</td>\n    </tr>\n    <tr>\n      <th>4</th>\n      <td>Paeijaenne</td>\n      <td>1118.00</td>\n      <td>95.0</td>\n      <td>78.0</td>\n      <td>None</td>\n      <td>Kymijoki</td>\n      <td>(25.4,61.5)</td>\n    </tr>\n    <tr>\n      <th>...</th>\n      <td>...</td>\n      <td>...</td>\n      <td>...</td>\n      <td>...</td>\n      <td>...</td>\n      <td>...</td>\n      <td>...</td>\n    </tr>\n    <tr>\n      <th>125</th>\n      <td>Lake Eyre</td>\n      <td>9500.00</td>\n      <td>4.0</td>\n      <td>-17.0</td>\n      <td>salt</td>\n      <td>None</td>\n      <td>(137.3,-28.6)</td>\n    </tr>\n    <tr>\n      <th>126</th>\n      <td>Lake Burley Griffin</td>\n      <td>6.64</td>\n      <td>NaN</td>\n      <td>556.0</td>\n      <td>artificial</td>\n      <td>Murrumbidgee River</td>\n      <td>(149.1,-35.3)</td>\n    </tr>\n    <tr>\n      <th>127</th>\n      <td>Lake Hume</td>\n      <td>202.00</td>\n      <td>NaN</td>\n      <td>NaN</td>\n      <td>None</td>\n      <td>Murray River</td>\n      <td>(147,-36.1)</td>\n    </tr>\n    <tr>\n      <th>128</th>\n      <td>Kentucky Lake</td>\n      <td>648.00</td>\n      <td>NaN</td>\n      <td>NaN</td>\n      <td>None</td>\n      <td>Tennessee</td>\n      <td>(-88.3,37)</td>\n    </tr>\n    <tr>\n      <th>129</th>\n      <td>Chickamauga Lake</td>\n      <td>147.00</td>\n      <td>NaN</td>\n      <td>NaN</td>\n      <td>None</td>\n      <td>Tennessee</td>\n      <td>(-85.0,35.4)</td>\n    </tr>\n  </tbody>\n</table>\n<p>130 rows × 7 columns</p>\n</div>"
     },
     "execution_count": 18,
     "metadata": {},
     "output_type": "execute_result"
    }
   ],
   "source": [
    "df"
   ]
  },
  {
   "cell_type": "markdown",
   "metadata": {},
   "source": [
    "## T8.2 c) (1 Point)"
   ]
  },
  {
   "cell_type": "code",
   "execution_count": 19,
   "metadata": {},
   "outputs": [
    {
     "name": "stdout",
     "output_type": "stream",
     "text": [
      " * postgresql+psycopg2://\n",
      "16 rows affected.\n"
     ]
    },
    {
     "data": {
      "text/plain": "[('Arresoe', None, Decimal('5.6')),\n ('Lago Trasimeno', 'caldera', Decimal('7')),\n ('Neusiedlersee', None, Decimal('1.8')),\n ('Lake Urmia', 'salt', Decimal('7')),\n ('Daryacheh ye Namak', 'salt', Decimal('1')),\n ('Chad Lake', 'salt', Decimal('7')),\n ('Chew Bahir', 'salt', Decimal('7.5')),\n ('Lake Kioga', None, Decimal('5.7')),\n ('Lake Bangweulu', None, Decimal('4')),\n ('Lake Rukwa', 'salt', Decimal('5')),\n ('Lake Natron', 'salt', Decimal('2')),\n ('Lake Chilwa', 'salt', Decimal('2')),\n ('Lake Ngami', 'salt', Decimal('2')),\n ('Lake Okeechobee', None, Decimal('4')),\n ('Poopo', 'salt', Decimal('4')),\n ('Lake Eyre', 'salt', Decimal('4'))]",
      "text/html": "<table>\n    <tr>\n        <th>name</th>\n        <th>type</th>\n        <th>depth</th>\n    </tr>\n    <tr>\n        <td>Arresoe</td>\n        <td>None</td>\n        <td>5.6</td>\n    </tr>\n    <tr>\n        <td>Lago Trasimeno</td>\n        <td>caldera</td>\n        <td>7</td>\n    </tr>\n    <tr>\n        <td>Neusiedlersee</td>\n        <td>None</td>\n        <td>1.8</td>\n    </tr>\n    <tr>\n        <td>Lake Urmia</td>\n        <td>salt</td>\n        <td>7</td>\n    </tr>\n    <tr>\n        <td>Daryacheh ye Namak</td>\n        <td>salt</td>\n        <td>1</td>\n    </tr>\n    <tr>\n        <td>Chad Lake</td>\n        <td>salt</td>\n        <td>7</td>\n    </tr>\n    <tr>\n        <td>Chew Bahir</td>\n        <td>salt</td>\n        <td>7.5</td>\n    </tr>\n    <tr>\n        <td>Lake Kioga</td>\n        <td>None</td>\n        <td>5.7</td>\n    </tr>\n    <tr>\n        <td>Lake Bangweulu</td>\n        <td>None</td>\n        <td>4</td>\n    </tr>\n    <tr>\n        <td>Lake Rukwa</td>\n        <td>salt</td>\n        <td>5</td>\n    </tr>\n    <tr>\n        <td>Lake Natron</td>\n        <td>salt</td>\n        <td>2</td>\n    </tr>\n    <tr>\n        <td>Lake Chilwa</td>\n        <td>salt</td>\n        <td>2</td>\n    </tr>\n    <tr>\n        <td>Lake Ngami</td>\n        <td>salt</td>\n        <td>2</td>\n    </tr>\n    <tr>\n        <td>Lake Okeechobee</td>\n        <td>None</td>\n        <td>4</td>\n    </tr>\n    <tr>\n        <td>Poopo</td>\n        <td>salt</td>\n        <td>4</td>\n    </tr>\n    <tr>\n        <td>Lake Eyre</td>\n        <td>salt</td>\n        <td>4</td>\n    </tr>\n</table>"
     },
     "execution_count": 19,
     "metadata": {},
     "output_type": "execute_result"
    }
   ],
   "source": [
    "%%sql SELECT name, type, depth\n",
    "  FROM lake\n",
    "  WHERE depth > 0 AND depth < 10"
   ]
  },
  {
   "cell_type": "code",
   "execution_count": 20,
   "metadata": {},
   "outputs": [
    {
     "data": {
      "text/plain": "                    name     area  depth  altitude        type  \\\n0                  Inari  1040.00   92.0     119.0        None   \n1             Oulujaervi   928.00   35.0     123.0        None   \n2              Kallavesi   472.00    NaN       NaN        None   \n3                 Saimaa  4370.00   85.0      76.0        None   \n4             Paeijaenne  1118.00   95.0      78.0        None   \n..                   ...      ...    ...       ...         ...   \n125            Lake Eyre  9500.00    4.0     -17.0        salt   \n126  Lake Burley Griffin     6.64    NaN     556.0  artificial   \n127            Lake Hume   202.00    NaN       NaN        None   \n128        Kentucky Lake   648.00    NaN       NaN        None   \n129     Chickamauga Lake   147.00    NaN       NaN        None   \n\n                  river    coordinates  \n0             Paatsjoki   (27.7,68.95)  \n1              Oulujoki   (27.25,64.3)  \n2                Vuoksi    (27.7,62.9)  \n3                Vuoksi    (28.0,61.3)  \n4              Kymijoki    (25.4,61.5)  \n..                  ...            ...  \n125                None  (137.3,-28.6)  \n126  Murrumbidgee River  (149.1,-35.3)  \n127        Murray River    (147,-36.1)  \n128           Tennessee     (-88.3,37)  \n129           Tennessee   (-85.0,35.4)  \n\n[130 rows x 7 columns]",
      "text/html": "<div>\n<style scoped>\n    .dataframe tbody tr th:only-of-type {\n        vertical-align: middle;\n    }\n\n    .dataframe tbody tr th {\n        vertical-align: top;\n    }\n\n    .dataframe thead th {\n        text-align: right;\n    }\n</style>\n<table border=\"1\" class=\"dataframe\">\n  <thead>\n    <tr style=\"text-align: right;\">\n      <th></th>\n      <th>name</th>\n      <th>area</th>\n      <th>depth</th>\n      <th>altitude</th>\n      <th>type</th>\n      <th>river</th>\n      <th>coordinates</th>\n    </tr>\n  </thead>\n  <tbody>\n    <tr>\n      <th>0</th>\n      <td>Inari</td>\n      <td>1040.00</td>\n      <td>92.0</td>\n      <td>119.0</td>\n      <td>None</td>\n      <td>Paatsjoki</td>\n      <td>(27.7,68.95)</td>\n    </tr>\n    <tr>\n      <th>1</th>\n      <td>Oulujaervi</td>\n      <td>928.00</td>\n      <td>35.0</td>\n      <td>123.0</td>\n      <td>None</td>\n      <td>Oulujoki</td>\n      <td>(27.25,64.3)</td>\n    </tr>\n    <tr>\n      <th>2</th>\n      <td>Kallavesi</td>\n      <td>472.00</td>\n      <td>NaN</td>\n      <td>NaN</td>\n      <td>None</td>\n      <td>Vuoksi</td>\n      <td>(27.7,62.9)</td>\n    </tr>\n    <tr>\n      <th>3</th>\n      <td>Saimaa</td>\n      <td>4370.00</td>\n      <td>85.0</td>\n      <td>76.0</td>\n      <td>None</td>\n      <td>Vuoksi</td>\n      <td>(28.0,61.3)</td>\n    </tr>\n    <tr>\n      <th>4</th>\n      <td>Paeijaenne</td>\n      <td>1118.00</td>\n      <td>95.0</td>\n      <td>78.0</td>\n      <td>None</td>\n      <td>Kymijoki</td>\n      <td>(25.4,61.5)</td>\n    </tr>\n    <tr>\n      <th>...</th>\n      <td>...</td>\n      <td>...</td>\n      <td>...</td>\n      <td>...</td>\n      <td>...</td>\n      <td>...</td>\n      <td>...</td>\n    </tr>\n    <tr>\n      <th>125</th>\n      <td>Lake Eyre</td>\n      <td>9500.00</td>\n      <td>4.0</td>\n      <td>-17.0</td>\n      <td>salt</td>\n      <td>None</td>\n      <td>(137.3,-28.6)</td>\n    </tr>\n    <tr>\n      <th>126</th>\n      <td>Lake Burley Griffin</td>\n      <td>6.64</td>\n      <td>NaN</td>\n      <td>556.0</td>\n      <td>artificial</td>\n      <td>Murrumbidgee River</td>\n      <td>(149.1,-35.3)</td>\n    </tr>\n    <tr>\n      <th>127</th>\n      <td>Lake Hume</td>\n      <td>202.00</td>\n      <td>NaN</td>\n      <td>NaN</td>\n      <td>None</td>\n      <td>Murray River</td>\n      <td>(147,-36.1)</td>\n    </tr>\n    <tr>\n      <th>128</th>\n      <td>Kentucky Lake</td>\n      <td>648.00</td>\n      <td>NaN</td>\n      <td>NaN</td>\n      <td>None</td>\n      <td>Tennessee</td>\n      <td>(-88.3,37)</td>\n    </tr>\n    <tr>\n      <th>129</th>\n      <td>Chickamauga Lake</td>\n      <td>147.00</td>\n      <td>NaN</td>\n      <td>NaN</td>\n      <td>None</td>\n      <td>Tennessee</td>\n      <td>(-85.0,35.4)</td>\n    </tr>\n  </tbody>\n</table>\n<p>130 rows × 7 columns</p>\n</div>"
     },
     "execution_count": 20,
     "metadata": {},
     "output_type": "execute_result"
    }
   ],
   "source": [
    "df"
   ]
  },
  {
   "cell_type": "markdown",
   "metadata": {},
   "source": [
    "## T8.2 d) (2 Points)"
   ]
  },
  {
   "cell_type": "code",
   "execution_count": 21,
   "metadata": {},
   "outputs": [
    {
     "name": "stdout",
     "output_type": "stream",
     "text": [
      " * postgresql+psycopg2://\n",
      "7 rows affected.\n"
     ]
    },
    {
     "data": {
      "text/plain": "[('crater', None),\n (None, Decimal('205.7313432835820896')),\n ('salt', Decimal('114.4423076923076923')),\n ('impact', Decimal('107.5000000000000000')),\n ('acid', None),\n ('artificial', Decimal('116.4285714285714286')),\n ('caldera', Decimal('239.7142857142857143'))]",
      "text/html": "<table>\n    <tr>\n        <th>type</th>\n        <th>avg</th>\n    </tr>\n    <tr>\n        <td>crater</td>\n        <td>None</td>\n    </tr>\n    <tr>\n        <td>None</td>\n        <td>205.7313432835820896</td>\n    </tr>\n    <tr>\n        <td>salt</td>\n        <td>114.4423076923076923</td>\n    </tr>\n    <tr>\n        <td>impact</td>\n        <td>107.5000000000000000</td>\n    </tr>\n    <tr>\n        <td>acid</td>\n        <td>None</td>\n    </tr>\n    <tr>\n        <td>artificial</td>\n        <td>116.4285714285714286</td>\n    </tr>\n    <tr>\n        <td>caldera</td>\n        <td>239.7142857142857143</td>\n    </tr>\n</table>"
     },
     "execution_count": 21,
     "metadata": {},
     "output_type": "execute_result"
    }
   ],
   "source": [
    "%%sql SELECT type, avg(depth)\n",
    "  FROM lake\n",
    "  GROUP BY type"
   ]
  },
  {
   "cell_type": "code",
   "execution_count": 22,
   "metadata": {},
   "outputs": [
    {
     "data": {
      "text/plain": "                    name     area  depth  altitude        type  \\\n0                  Inari  1040.00   92.0     119.0        None   \n1             Oulujaervi   928.00   35.0     123.0        None   \n2              Kallavesi   472.00    NaN       NaN        None   \n3                 Saimaa  4370.00   85.0      76.0        None   \n4             Paeijaenne  1118.00   95.0      78.0        None   \n..                   ...      ...    ...       ...         ...   \n125            Lake Eyre  9500.00    4.0     -17.0        salt   \n126  Lake Burley Griffin     6.64    NaN     556.0  artificial   \n127            Lake Hume   202.00    NaN       NaN        None   \n128        Kentucky Lake   648.00    NaN       NaN        None   \n129     Chickamauga Lake   147.00    NaN       NaN        None   \n\n                  river    coordinates  \n0             Paatsjoki   (27.7,68.95)  \n1              Oulujoki   (27.25,64.3)  \n2                Vuoksi    (27.7,62.9)  \n3                Vuoksi    (28.0,61.3)  \n4              Kymijoki    (25.4,61.5)  \n..                  ...            ...  \n125                None  (137.3,-28.6)  \n126  Murrumbidgee River  (149.1,-35.3)  \n127        Murray River    (147,-36.1)  \n128           Tennessee     (-88.3,37)  \n129           Tennessee   (-85.0,35.4)  \n\n[130 rows x 7 columns]",
      "text/html": "<div>\n<style scoped>\n    .dataframe tbody tr th:only-of-type {\n        vertical-align: middle;\n    }\n\n    .dataframe tbody tr th {\n        vertical-align: top;\n    }\n\n    .dataframe thead th {\n        text-align: right;\n    }\n</style>\n<table border=\"1\" class=\"dataframe\">\n  <thead>\n    <tr style=\"text-align: right;\">\n      <th></th>\n      <th>name</th>\n      <th>area</th>\n      <th>depth</th>\n      <th>altitude</th>\n      <th>type</th>\n      <th>river</th>\n      <th>coordinates</th>\n    </tr>\n  </thead>\n  <tbody>\n    <tr>\n      <th>0</th>\n      <td>Inari</td>\n      <td>1040.00</td>\n      <td>92.0</td>\n      <td>119.0</td>\n      <td>None</td>\n      <td>Paatsjoki</td>\n      <td>(27.7,68.95)</td>\n    </tr>\n    <tr>\n      <th>1</th>\n      <td>Oulujaervi</td>\n      <td>928.00</td>\n      <td>35.0</td>\n      <td>123.0</td>\n      <td>None</td>\n      <td>Oulujoki</td>\n      <td>(27.25,64.3)</td>\n    </tr>\n    <tr>\n      <th>2</th>\n      <td>Kallavesi</td>\n      <td>472.00</td>\n      <td>NaN</td>\n      <td>NaN</td>\n      <td>None</td>\n      <td>Vuoksi</td>\n      <td>(27.7,62.9)</td>\n    </tr>\n    <tr>\n      <th>3</th>\n      <td>Saimaa</td>\n      <td>4370.00</td>\n      <td>85.0</td>\n      <td>76.0</td>\n      <td>None</td>\n      <td>Vuoksi</td>\n      <td>(28.0,61.3)</td>\n    </tr>\n    <tr>\n      <th>4</th>\n      <td>Paeijaenne</td>\n      <td>1118.00</td>\n      <td>95.0</td>\n      <td>78.0</td>\n      <td>None</td>\n      <td>Kymijoki</td>\n      <td>(25.4,61.5)</td>\n    </tr>\n    <tr>\n      <th>...</th>\n      <td>...</td>\n      <td>...</td>\n      <td>...</td>\n      <td>...</td>\n      <td>...</td>\n      <td>...</td>\n      <td>...</td>\n    </tr>\n    <tr>\n      <th>125</th>\n      <td>Lake Eyre</td>\n      <td>9500.00</td>\n      <td>4.0</td>\n      <td>-17.0</td>\n      <td>salt</td>\n      <td>None</td>\n      <td>(137.3,-28.6)</td>\n    </tr>\n    <tr>\n      <th>126</th>\n      <td>Lake Burley Griffin</td>\n      <td>6.64</td>\n      <td>NaN</td>\n      <td>556.0</td>\n      <td>artificial</td>\n      <td>Murrumbidgee River</td>\n      <td>(149.1,-35.3)</td>\n    </tr>\n    <tr>\n      <th>127</th>\n      <td>Lake Hume</td>\n      <td>202.00</td>\n      <td>NaN</td>\n      <td>NaN</td>\n      <td>None</td>\n      <td>Murray River</td>\n      <td>(147,-36.1)</td>\n    </tr>\n    <tr>\n      <th>128</th>\n      <td>Kentucky Lake</td>\n      <td>648.00</td>\n      <td>NaN</td>\n      <td>NaN</td>\n      <td>None</td>\n      <td>Tennessee</td>\n      <td>(-88.3,37)</td>\n    </tr>\n    <tr>\n      <th>129</th>\n      <td>Chickamauga Lake</td>\n      <td>147.00</td>\n      <td>NaN</td>\n      <td>NaN</td>\n      <td>None</td>\n      <td>Tennessee</td>\n      <td>(-85.0,35.4)</td>\n    </tr>\n  </tbody>\n</table>\n<p>130 rows × 7 columns</p>\n</div>"
     },
     "execution_count": 22,
     "metadata": {},
     "output_type": "execute_result"
    }
   ],
   "source": [
    "import numpy\n",
    "\n",
    "df"
   ]
  },
  {
   "cell_type": "markdown",
   "metadata": {},
   "source": [
    "## T8.2 e) (2 Points)\n"
   ]
  },
  {
   "cell_type": "code",
   "execution_count": 23,
   "metadata": {},
   "outputs": [
    {
     "name": "stdout",
     "output_type": "stream",
     "text": [
      " * postgresql+psycopg2://\n",
      "2 rows affected.\n"
     ]
    },
    {
     "data": {
      "text/plain": "[]"
     },
     "execution_count": 23,
     "metadata": {},
     "output_type": "execute_result"
    }
   ],
   "source": [
    "%sql UPDATE lake SET river='Caquinampo' WHERE river = 'Tennessee'"
   ]
  },
  {
   "cell_type": "code",
   "execution_count": 24,
   "metadata": {},
   "outputs": [
    {
     "data": {
      "text/plain": "                    name     area  depth  altitude        type  \\\n0                  Inari  1040.00   92.0     119.0        None   \n1             Oulujaervi   928.00   35.0     123.0        None   \n2              Kallavesi   472.00    NaN       NaN        None   \n3                 Saimaa  4370.00   85.0      76.0        None   \n4             Paeijaenne  1118.00   95.0      78.0        None   \n..                   ...      ...    ...       ...         ...   \n125            Lake Eyre  9500.00    4.0     -17.0        salt   \n126  Lake Burley Griffin     6.64    NaN     556.0  artificial   \n127            Lake Hume   202.00    NaN       NaN        None   \n128        Kentucky Lake   648.00    NaN       NaN        None   \n129     Chickamauga Lake   147.00    NaN       NaN        None   \n\n                  river    coordinates  \n0             Paatsjoki   (27.7,68.95)  \n1              Oulujoki   (27.25,64.3)  \n2                Vuoksi    (27.7,62.9)  \n3                Vuoksi    (28.0,61.3)  \n4              Kymijoki    (25.4,61.5)  \n..                  ...            ...  \n125                None  (137.3,-28.6)  \n126  Murrumbidgee River  (149.1,-35.3)  \n127        Murray River    (147,-36.1)  \n128           Tennessee     (-88.3,37)  \n129           Tennessee   (-85.0,35.4)  \n\n[130 rows x 7 columns]",
      "text/html": "<div>\n<style scoped>\n    .dataframe tbody tr th:only-of-type {\n        vertical-align: middle;\n    }\n\n    .dataframe tbody tr th {\n        vertical-align: top;\n    }\n\n    .dataframe thead th {\n        text-align: right;\n    }\n</style>\n<table border=\"1\" class=\"dataframe\">\n  <thead>\n    <tr style=\"text-align: right;\">\n      <th></th>\n      <th>name</th>\n      <th>area</th>\n      <th>depth</th>\n      <th>altitude</th>\n      <th>type</th>\n      <th>river</th>\n      <th>coordinates</th>\n    </tr>\n  </thead>\n  <tbody>\n    <tr>\n      <th>0</th>\n      <td>Inari</td>\n      <td>1040.00</td>\n      <td>92.0</td>\n      <td>119.0</td>\n      <td>None</td>\n      <td>Paatsjoki</td>\n      <td>(27.7,68.95)</td>\n    </tr>\n    <tr>\n      <th>1</th>\n      <td>Oulujaervi</td>\n      <td>928.00</td>\n      <td>35.0</td>\n      <td>123.0</td>\n      <td>None</td>\n      <td>Oulujoki</td>\n      <td>(27.25,64.3)</td>\n    </tr>\n    <tr>\n      <th>2</th>\n      <td>Kallavesi</td>\n      <td>472.00</td>\n      <td>NaN</td>\n      <td>NaN</td>\n      <td>None</td>\n      <td>Vuoksi</td>\n      <td>(27.7,62.9)</td>\n    </tr>\n    <tr>\n      <th>3</th>\n      <td>Saimaa</td>\n      <td>4370.00</td>\n      <td>85.0</td>\n      <td>76.0</td>\n      <td>None</td>\n      <td>Vuoksi</td>\n      <td>(28.0,61.3)</td>\n    </tr>\n    <tr>\n      <th>4</th>\n      <td>Paeijaenne</td>\n      <td>1118.00</td>\n      <td>95.0</td>\n      <td>78.0</td>\n      <td>None</td>\n      <td>Kymijoki</td>\n      <td>(25.4,61.5)</td>\n    </tr>\n    <tr>\n      <th>...</th>\n      <td>...</td>\n      <td>...</td>\n      <td>...</td>\n      <td>...</td>\n      <td>...</td>\n      <td>...</td>\n      <td>...</td>\n    </tr>\n    <tr>\n      <th>125</th>\n      <td>Lake Eyre</td>\n      <td>9500.00</td>\n      <td>4.0</td>\n      <td>-17.0</td>\n      <td>salt</td>\n      <td>None</td>\n      <td>(137.3,-28.6)</td>\n    </tr>\n    <tr>\n      <th>126</th>\n      <td>Lake Burley Griffin</td>\n      <td>6.64</td>\n      <td>NaN</td>\n      <td>556.0</td>\n      <td>artificial</td>\n      <td>Murrumbidgee River</td>\n      <td>(149.1,-35.3)</td>\n    </tr>\n    <tr>\n      <th>127</th>\n      <td>Lake Hume</td>\n      <td>202.00</td>\n      <td>NaN</td>\n      <td>NaN</td>\n      <td>None</td>\n      <td>Murray River</td>\n      <td>(147,-36.1)</td>\n    </tr>\n    <tr>\n      <th>128</th>\n      <td>Kentucky Lake</td>\n      <td>648.00</td>\n      <td>NaN</td>\n      <td>NaN</td>\n      <td>None</td>\n      <td>Tennessee</td>\n      <td>(-88.3,37)</td>\n    </tr>\n    <tr>\n      <th>129</th>\n      <td>Chickamauga Lake</td>\n      <td>147.00</td>\n      <td>NaN</td>\n      <td>NaN</td>\n      <td>None</td>\n      <td>Tennessee</td>\n      <td>(-85.0,35.4)</td>\n    </tr>\n  </tbody>\n</table>\n<p>130 rows × 7 columns</p>\n</div>"
     },
     "execution_count": 24,
     "metadata": {},
     "output_type": "execute_result"
    }
   ],
   "source": [
    "df"
   ]
  },
  {
   "cell_type": "markdown",
   "metadata": {},
   "source": [
    "Use the statement below if you want to undo the effect of the SQL statement for testing."
   ]
  },
  {
   "cell_type": "code",
   "execution_count": 25,
   "metadata": {},
   "outputs": [
    {
     "name": "stdout",
     "output_type": "stream",
     "text": [
      " * postgresql+psycopg2://\n",
      "2 rows affected.\n"
     ]
    },
    {
     "data": {
      "text/plain": "[]"
     },
     "execution_count": 25,
     "metadata": {},
     "output_type": "execute_result"
    }
   ],
   "source": [
    "%sql UPDATE lake SET river='Tennessee' WHERE river = 'Caquinampo'\n"
   ]
  },
  {
   "cell_type": "markdown",
   "metadata": {},
   "source": [
    "You can use the statement below to check if the update did work"
   ]
  },
  {
   "cell_type": "code",
   "execution_count": 26,
   "metadata": {},
   "outputs": [
    {
     "data": {
      "text/plain": "Empty DataFrame\nColumns: [name, area, depth, altitude, type, river, coordinates]\nIndex: []",
      "text/html": "<div>\n<style scoped>\n    .dataframe tbody tr th:only-of-type {\n        vertical-align: middle;\n    }\n\n    .dataframe tbody tr th {\n        vertical-align: top;\n    }\n\n    .dataframe thead th {\n        text-align: right;\n    }\n</style>\n<table border=\"1\" class=\"dataframe\">\n  <thead>\n    <tr style=\"text-align: right;\">\n      <th></th>\n      <th>name</th>\n      <th>area</th>\n      <th>depth</th>\n      <th>altitude</th>\n      <th>type</th>\n      <th>river</th>\n      <th>coordinates</th>\n    </tr>\n  </thead>\n  <tbody>\n  </tbody>\n</table>\n</div>"
     },
     "execution_count": 26,
     "metadata": {},
     "output_type": "execute_result"
    }
   ],
   "source": [
    "df[df['river']=='Caquinampo']"
   ]
  },
  {
   "cell_type": "code",
   "execution_count": 26,
   "metadata": {},
   "outputs": [],
   "source": []
  }
 ],
 "metadata": {
  "kernelspec": {
   "display_name": "Python 3 (ipykernel)",
   "language": "python",
   "name": "python3"
  },
  "language_info": {
   "codemirror_mode": {
    "name": "ipython",
    "version": 3
   },
   "file_extension": ".py",
   "mimetype": "text/x-python",
   "name": "python",
   "nbconvert_exporter": "python",
   "pygments_lexer": "ipython3",
   "version": "3.10.8"
  }
 },
 "nbformat": 4,
 "nbformat_minor": 1
}
