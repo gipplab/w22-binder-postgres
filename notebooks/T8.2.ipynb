{
 "cells": [
  {
   "cell_type": "markdown",
   "metadata": {},
   "source": [
    "# Task 8.2 SQL to Dataframe (7 Points)"
   ]
  },
  {
   "cell_type": "markdown",
   "metadata": {},
   "source": [
    "This task is about converting from SQL queries to pandas Dataframe queries. At first, we create a connection to the database and work on the table 'lake' from the mondial schema.\n",
    "*Please complete all exercises within this sheet, download the notebook as Python and upload it to praktomat.*"
   ]
  },
  {
   "cell_type": "code",
   "execution_count": 1,
   "metadata": {},
   "outputs": [],
   "source": [
    "from sqlalchemy import create_engine\n",
    "import pandas\n",
    "\n",
    "%load_ext sql\n",
    "%sql postgresql+psycopg2://\n",
    "\n",
    "df = pandas.read_sql(\n",
    "    'Select * FROM lake',\n",
    "    create_engine(\"postgresql+psycopg2://\")\n",
    ")"
   ]
  },
  {
   "cell_type": "markdown",
   "metadata": {},
   "source": [
    "## Task 8.2a) (1 Point)\n",
    "Convert the following SQL expression to an equivalent dataframe expression."
   ]
  },
  {
   "cell_type": "markdown",
   "metadata": {},
   "source": [
    "Modify the cell blow and upload the entire file for all tasks a-d to praktomat once you are satisfied th final grade will be done by the tutors. If you stop working please download the current state of your work.\n"
   ]
  },
  {
   "cell_type": "code",
   "execution_count": 2,
   "metadata": {},
   "outputs": [
    {
     "data": {
      "text/plain": "                    name     area  depth  altitude        type  \\\n0                  Inari  1040.00   92.0     119.0        None   \n1             Oulujaervi   928.00   35.0     123.0        None   \n2              Kallavesi   472.00    NaN       NaN        None   \n3                 Saimaa  4370.00   85.0      76.0        None   \n4             Paeijaenne  1118.00   95.0      78.0        None   \n..                   ...      ...    ...       ...         ...   \n125            Lake Eyre  9500.00    4.0     -17.0        salt   \n126  Lake Burley Griffin     6.64    NaN     556.0  artificial   \n127            Lake Hume   202.00    NaN       NaN        None   \n128        Kentucky Lake   648.00    NaN       NaN        None   \n129     Chickamauga Lake   147.00    NaN       NaN        None   \n\n                  river    coordinates  \n0             Paatsjoki   (27.7,68.95)  \n1              Oulujoki   (27.25,64.3)  \n2                Vuoksi    (27.7,62.9)  \n3                Vuoksi    (28.0,61.3)  \n4              Kymijoki    (25.4,61.5)  \n..                  ...            ...  \n125                None  (137.3,-28.6)  \n126  Murrumbidgee River  (149.1,-35.3)  \n127        Murray River    (147,-36.1)  \n128           Tennessee     (-88.3,37)  \n129           Tennessee   (-85.0,35.4)  \n\n[130 rows x 7 columns]",
      "text/html": "<div>\n<style scoped>\n    .dataframe tbody tr th:only-of-type {\n        vertical-align: middle;\n    }\n\n    .dataframe tbody tr th {\n        vertical-align: top;\n    }\n\n    .dataframe thead th {\n        text-align: right;\n    }\n</style>\n<table border=\"1\" class=\"dataframe\">\n  <thead>\n    <tr style=\"text-align: right;\">\n      <th></th>\n      <th>name</th>\n      <th>area</th>\n      <th>depth</th>\n      <th>altitude</th>\n      <th>type</th>\n      <th>river</th>\n      <th>coordinates</th>\n    </tr>\n  </thead>\n  <tbody>\n    <tr>\n      <th>0</th>\n      <td>Inari</td>\n      <td>1040.00</td>\n      <td>92.0</td>\n      <td>119.0</td>\n      <td>None</td>\n      <td>Paatsjoki</td>\n      <td>(27.7,68.95)</td>\n    </tr>\n    <tr>\n      <th>1</th>\n      <td>Oulujaervi</td>\n      <td>928.00</td>\n      <td>35.0</td>\n      <td>123.0</td>\n      <td>None</td>\n      <td>Oulujoki</td>\n      <td>(27.25,64.3)</td>\n    </tr>\n    <tr>\n      <th>2</th>\n      <td>Kallavesi</td>\n      <td>472.00</td>\n      <td>NaN</td>\n      <td>NaN</td>\n      <td>None</td>\n      <td>Vuoksi</td>\n      <td>(27.7,62.9)</td>\n    </tr>\n    <tr>\n      <th>3</th>\n      <td>Saimaa</td>\n      <td>4370.00</td>\n      <td>85.0</td>\n      <td>76.0</td>\n      <td>None</td>\n      <td>Vuoksi</td>\n      <td>(28.0,61.3)</td>\n    </tr>\n    <tr>\n      <th>4</th>\n      <td>Paeijaenne</td>\n      <td>1118.00</td>\n      <td>95.0</td>\n      <td>78.0</td>\n      <td>None</td>\n      <td>Kymijoki</td>\n      <td>(25.4,61.5)</td>\n    </tr>\n    <tr>\n      <th>...</th>\n      <td>...</td>\n      <td>...</td>\n      <td>...</td>\n      <td>...</td>\n      <td>...</td>\n      <td>...</td>\n      <td>...</td>\n    </tr>\n    <tr>\n      <th>125</th>\n      <td>Lake Eyre</td>\n      <td>9500.00</td>\n      <td>4.0</td>\n      <td>-17.0</td>\n      <td>salt</td>\n      <td>None</td>\n      <td>(137.3,-28.6)</td>\n    </tr>\n    <tr>\n      <th>126</th>\n      <td>Lake Burley Griffin</td>\n      <td>6.64</td>\n      <td>NaN</td>\n      <td>556.0</td>\n      <td>artificial</td>\n      <td>Murrumbidgee River</td>\n      <td>(149.1,-35.3)</td>\n    </tr>\n    <tr>\n      <th>127</th>\n      <td>Lake Hume</td>\n      <td>202.00</td>\n      <td>NaN</td>\n      <td>NaN</td>\n      <td>None</td>\n      <td>Murray River</td>\n      <td>(147,-36.1)</td>\n    </tr>\n    <tr>\n      <th>128</th>\n      <td>Kentucky Lake</td>\n      <td>648.00</td>\n      <td>NaN</td>\n      <td>NaN</td>\n      <td>None</td>\n      <td>Tennessee</td>\n      <td>(-88.3,37)</td>\n    </tr>\n    <tr>\n      <th>129</th>\n      <td>Chickamauga Lake</td>\n      <td>147.00</td>\n      <td>NaN</td>\n      <td>NaN</td>\n      <td>None</td>\n      <td>Tennessee</td>\n      <td>(-85.0,35.4)</td>\n    </tr>\n  </tbody>\n</table>\n<p>130 rows × 7 columns</p>\n</div>"
     },
     "execution_count": 2,
     "metadata": {},
     "output_type": "execute_result"
    }
   ],
   "source": [
    "df"
   ]
  },
  {
   "cell_type": "markdown",
   "metadata": {},
   "source": [
    "## T8.2 b) (1 Point)"
   ]
  },
  {
   "cell_type": "code",
   "execution_count": 3,
   "metadata": {},
   "outputs": [
    {
     "name": "stdout",
     "output_type": "stream",
     "text": [
      " * postgresql+psycopg2://\n",
      "10 rows affected.\n"
     ]
    },
    {
     "data": {
      "text/plain": "[('Barrage de Mbakaou', None),\n ('Lake Nyos', None),\n ('Caspian Sea', Decimal('386400')),\n ('Lake Superior', Decimal('82103')),\n ('Lake Victoria', Decimal('68870')),\n ('Lake Huron', Decimal('59600')),\n ('Lake Michigan', Decimal('57800')),\n ('Dead Sea', Decimal('41650')),\n ('Lake Tanganjika', Decimal('32893')),\n ('Great Bear Lake', Decimal('31792'))]",
      "text/html": "<table>\n    <tr>\n        <th>name</th>\n        <th>area</th>\n    </tr>\n    <tr>\n        <td>Barrage de Mbakaou</td>\n        <td>None</td>\n    </tr>\n    <tr>\n        <td>Lake Nyos</td>\n        <td>None</td>\n    </tr>\n    <tr>\n        <td>Caspian Sea</td>\n        <td>386400</td>\n    </tr>\n    <tr>\n        <td>Lake Superior</td>\n        <td>82103</td>\n    </tr>\n    <tr>\n        <td>Lake Victoria</td>\n        <td>68870</td>\n    </tr>\n    <tr>\n        <td>Lake Huron</td>\n        <td>59600</td>\n    </tr>\n    <tr>\n        <td>Lake Michigan</td>\n        <td>57800</td>\n    </tr>\n    <tr>\n        <td>Dead Sea</td>\n        <td>41650</td>\n    </tr>\n    <tr>\n        <td>Lake Tanganjika</td>\n        <td>32893</td>\n    </tr>\n    <tr>\n        <td>Great Bear Lake</td>\n        <td>31792</td>\n    </tr>\n</table>"
     },
     "execution_count": 3,
     "metadata": {},
     "output_type": "execute_result"
    }
   ],
   "source": [
    "%sql SELECT name, area FROM lake ORDER by area desc LIMIT 10"
   ]
  },
  {
   "cell_type": "code",
   "execution_count": 4,
   "metadata": {},
   "outputs": [
    {
     "data": {
      "text/plain": "                    name     area  depth  altitude        type  \\\n0                  Inari  1040.00   92.0     119.0        None   \n1             Oulujaervi   928.00   35.0     123.0        None   \n2              Kallavesi   472.00    NaN       NaN        None   \n3                 Saimaa  4370.00   85.0      76.0        None   \n4             Paeijaenne  1118.00   95.0      78.0        None   \n..                   ...      ...    ...       ...         ...   \n125            Lake Eyre  9500.00    4.0     -17.0        salt   \n126  Lake Burley Griffin     6.64    NaN     556.0  artificial   \n127            Lake Hume   202.00    NaN       NaN        None   \n128        Kentucky Lake   648.00    NaN       NaN        None   \n129     Chickamauga Lake   147.00    NaN       NaN        None   \n\n                  river    coordinates  \n0             Paatsjoki   (27.7,68.95)  \n1              Oulujoki   (27.25,64.3)  \n2                Vuoksi    (27.7,62.9)  \n3                Vuoksi    (28.0,61.3)  \n4              Kymijoki    (25.4,61.5)  \n..                  ...            ...  \n125                None  (137.3,-28.6)  \n126  Murrumbidgee River  (149.1,-35.3)  \n127        Murray River    (147,-36.1)  \n128           Tennessee     (-88.3,37)  \n129           Tennessee   (-85.0,35.4)  \n\n[130 rows x 7 columns]",
      "text/html": "<div>\n<style scoped>\n    .dataframe tbody tr th:only-of-type {\n        vertical-align: middle;\n    }\n\n    .dataframe tbody tr th {\n        vertical-align: top;\n    }\n\n    .dataframe thead th {\n        text-align: right;\n    }\n</style>\n<table border=\"1\" class=\"dataframe\">\n  <thead>\n    <tr style=\"text-align: right;\">\n      <th></th>\n      <th>name</th>\n      <th>area</th>\n      <th>depth</th>\n      <th>altitude</th>\n      <th>type</th>\n      <th>river</th>\n      <th>coordinates</th>\n    </tr>\n  </thead>\n  <tbody>\n    <tr>\n      <th>0</th>\n      <td>Inari</td>\n      <td>1040.00</td>\n      <td>92.0</td>\n      <td>119.0</td>\n      <td>None</td>\n      <td>Paatsjoki</td>\n      <td>(27.7,68.95)</td>\n    </tr>\n    <tr>\n      <th>1</th>\n      <td>Oulujaervi</td>\n      <td>928.00</td>\n      <td>35.0</td>\n      <td>123.0</td>\n      <td>None</td>\n      <td>Oulujoki</td>\n      <td>(27.25,64.3)</td>\n    </tr>\n    <tr>\n      <th>2</th>\n      <td>Kallavesi</td>\n      <td>472.00</td>\n      <td>NaN</td>\n      <td>NaN</td>\n      <td>None</td>\n      <td>Vuoksi</td>\n      <td>(27.7,62.9)</td>\n    </tr>\n    <tr>\n      <th>3</th>\n      <td>Saimaa</td>\n      <td>4370.00</td>\n      <td>85.0</td>\n      <td>76.0</td>\n      <td>None</td>\n      <td>Vuoksi</td>\n      <td>(28.0,61.3)</td>\n    </tr>\n    <tr>\n      <th>4</th>\n      <td>Paeijaenne</td>\n      <td>1118.00</td>\n      <td>95.0</td>\n      <td>78.0</td>\n      <td>None</td>\n      <td>Kymijoki</td>\n      <td>(25.4,61.5)</td>\n    </tr>\n    <tr>\n      <th>...</th>\n      <td>...</td>\n      <td>...</td>\n      <td>...</td>\n      <td>...</td>\n      <td>...</td>\n      <td>...</td>\n      <td>...</td>\n    </tr>\n    <tr>\n      <th>125</th>\n      <td>Lake Eyre</td>\n      <td>9500.00</td>\n      <td>4.0</td>\n      <td>-17.0</td>\n      <td>salt</td>\n      <td>None</td>\n      <td>(137.3,-28.6)</td>\n    </tr>\n    <tr>\n      <th>126</th>\n      <td>Lake Burley Griffin</td>\n      <td>6.64</td>\n      <td>NaN</td>\n      <td>556.0</td>\n      <td>artificial</td>\n      <td>Murrumbidgee River</td>\n      <td>(149.1,-35.3)</td>\n    </tr>\n    <tr>\n      <th>127</th>\n      <td>Lake Hume</td>\n      <td>202.00</td>\n      <td>NaN</td>\n      <td>NaN</td>\n      <td>None</td>\n      <td>Murray River</td>\n      <td>(147,-36.1)</td>\n    </tr>\n    <tr>\n      <th>128</th>\n      <td>Kentucky Lake</td>\n      <td>648.00</td>\n      <td>NaN</td>\n      <td>NaN</td>\n      <td>None</td>\n      <td>Tennessee</td>\n      <td>(-88.3,37)</td>\n    </tr>\n    <tr>\n      <th>129</th>\n      <td>Chickamauga Lake</td>\n      <td>147.00</td>\n      <td>NaN</td>\n      <td>NaN</td>\n      <td>None</td>\n      <td>Tennessee</td>\n      <td>(-85.0,35.4)</td>\n    </tr>\n  </tbody>\n</table>\n<p>130 rows × 7 columns</p>\n</div>"
     },
     "execution_count": 4,
     "metadata": {},
     "output_type": "execute_result"
    }
   ],
   "source": [
    "df"
   ]
  },
  {
   "cell_type": "markdown",
   "metadata": {},
   "source": [
    "## T8.2 c) (1 Point)"
   ]
  },
  {
   "cell_type": "code",
   "execution_count": 5,
   "metadata": {},
   "outputs": [
    {
     "name": "stdout",
     "output_type": "stream",
     "text": [
      " * postgresql+psycopg2://\n",
      "16 rows affected.\n"
     ]
    },
    {
     "data": {
      "text/plain": "[('Arresoe', None, Decimal('5.6')),\n ('Lago Trasimeno', 'caldera', Decimal('7')),\n ('Neusiedlersee', None, Decimal('1.8')),\n ('Lake Urmia', 'salt', Decimal('7')),\n ('Daryacheh ye Namak', 'salt', Decimal('1')),\n ('Chad Lake', 'salt', Decimal('7')),\n ('Chew Bahir', 'salt', Decimal('7.5')),\n ('Lake Kioga', None, Decimal('5.7')),\n ('Lake Bangweulu', None, Decimal('4')),\n ('Lake Rukwa', 'salt', Decimal('5')),\n ('Lake Natron', 'salt', Decimal('2')),\n ('Lake Chilwa', 'salt', Decimal('2')),\n ('Lake Ngami', 'salt', Decimal('2')),\n ('Lake Okeechobee', None, Decimal('4')),\n ('Poopo', 'salt', Decimal('4')),\n ('Lake Eyre', 'salt', Decimal('4'))]",
      "text/html": "<table>\n    <tr>\n        <th>name</th>\n        <th>type</th>\n        <th>depth</th>\n    </tr>\n    <tr>\n        <td>Arresoe</td>\n        <td>None</td>\n        <td>5.6</td>\n    </tr>\n    <tr>\n        <td>Lago Trasimeno</td>\n        <td>caldera</td>\n        <td>7</td>\n    </tr>\n    <tr>\n        <td>Neusiedlersee</td>\n        <td>None</td>\n        <td>1.8</td>\n    </tr>\n    <tr>\n        <td>Lake Urmia</td>\n        <td>salt</td>\n        <td>7</td>\n    </tr>\n    <tr>\n        <td>Daryacheh ye Namak</td>\n        <td>salt</td>\n        <td>1</td>\n    </tr>\n    <tr>\n        <td>Chad Lake</td>\n        <td>salt</td>\n        <td>7</td>\n    </tr>\n    <tr>\n        <td>Chew Bahir</td>\n        <td>salt</td>\n        <td>7.5</td>\n    </tr>\n    <tr>\n        <td>Lake Kioga</td>\n        <td>None</td>\n        <td>5.7</td>\n    </tr>\n    <tr>\n        <td>Lake Bangweulu</td>\n        <td>None</td>\n        <td>4</td>\n    </tr>\n    <tr>\n        <td>Lake Rukwa</td>\n        <td>salt</td>\n        <td>5</td>\n    </tr>\n    <tr>\n        <td>Lake Natron</td>\n        <td>salt</td>\n        <td>2</td>\n    </tr>\n    <tr>\n        <td>Lake Chilwa</td>\n        <td>salt</td>\n        <td>2</td>\n    </tr>\n    <tr>\n        <td>Lake Ngami</td>\n        <td>salt</td>\n        <td>2</td>\n    </tr>\n    <tr>\n        <td>Lake Okeechobee</td>\n        <td>None</td>\n        <td>4</td>\n    </tr>\n    <tr>\n        <td>Poopo</td>\n        <td>salt</td>\n        <td>4</td>\n    </tr>\n    <tr>\n        <td>Lake Eyre</td>\n        <td>salt</td>\n        <td>4</td>\n    </tr>\n</table>"
     },
     "execution_count": 5,
     "metadata": {},
     "output_type": "execute_result"
    }
   ],
   "source": [
    "%%sql SELECT name, type, depth\n",
    "  FROM lake\n",
    "  WHERE depth > 0 AND depth < 10"
   ]
  },
  {
   "cell_type": "code",
   "execution_count": 6,
   "metadata": {},
   "outputs": [
    {
     "data": {
      "text/plain": "                    name     area  depth  altitude        type  \\\n0                  Inari  1040.00   92.0     119.0        None   \n1             Oulujaervi   928.00   35.0     123.0        None   \n2              Kallavesi   472.00    NaN       NaN        None   \n3                 Saimaa  4370.00   85.0      76.0        None   \n4             Paeijaenne  1118.00   95.0      78.0        None   \n..                   ...      ...    ...       ...         ...   \n125            Lake Eyre  9500.00    4.0     -17.0        salt   \n126  Lake Burley Griffin     6.64    NaN     556.0  artificial   \n127            Lake Hume   202.00    NaN       NaN        None   \n128        Kentucky Lake   648.00    NaN       NaN        None   \n129     Chickamauga Lake   147.00    NaN       NaN        None   \n\n                  river    coordinates  \n0             Paatsjoki   (27.7,68.95)  \n1              Oulujoki   (27.25,64.3)  \n2                Vuoksi    (27.7,62.9)  \n3                Vuoksi    (28.0,61.3)  \n4              Kymijoki    (25.4,61.5)  \n..                  ...            ...  \n125                None  (137.3,-28.6)  \n126  Murrumbidgee River  (149.1,-35.3)  \n127        Murray River    (147,-36.1)  \n128           Tennessee     (-88.3,37)  \n129           Tennessee   (-85.0,35.4)  \n\n[130 rows x 7 columns]",
      "text/html": "<div>\n<style scoped>\n    .dataframe tbody tr th:only-of-type {\n        vertical-align: middle;\n    }\n\n    .dataframe tbody tr th {\n        vertical-align: top;\n    }\n\n    .dataframe thead th {\n        text-align: right;\n    }\n</style>\n<table border=\"1\" class=\"dataframe\">\n  <thead>\n    <tr style=\"text-align: right;\">\n      <th></th>\n      <th>name</th>\n      <th>area</th>\n      <th>depth</th>\n      <th>altitude</th>\n      <th>type</th>\n      <th>river</th>\n      <th>coordinates</th>\n    </tr>\n  </thead>\n  <tbody>\n    <tr>\n      <th>0</th>\n      <td>Inari</td>\n      <td>1040.00</td>\n      <td>92.0</td>\n      <td>119.0</td>\n      <td>None</td>\n      <td>Paatsjoki</td>\n      <td>(27.7,68.95)</td>\n    </tr>\n    <tr>\n      <th>1</th>\n      <td>Oulujaervi</td>\n      <td>928.00</td>\n      <td>35.0</td>\n      <td>123.0</td>\n      <td>None</td>\n      <td>Oulujoki</td>\n      <td>(27.25,64.3)</td>\n    </tr>\n    <tr>\n      <th>2</th>\n      <td>Kallavesi</td>\n      <td>472.00</td>\n      <td>NaN</td>\n      <td>NaN</td>\n      <td>None</td>\n      <td>Vuoksi</td>\n      <td>(27.7,62.9)</td>\n    </tr>\n    <tr>\n      <th>3</th>\n      <td>Saimaa</td>\n      <td>4370.00</td>\n      <td>85.0</td>\n      <td>76.0</td>\n      <td>None</td>\n      <td>Vuoksi</td>\n      <td>(28.0,61.3)</td>\n    </tr>\n    <tr>\n      <th>4</th>\n      <td>Paeijaenne</td>\n      <td>1118.00</td>\n      <td>95.0</td>\n      <td>78.0</td>\n      <td>None</td>\n      <td>Kymijoki</td>\n      <td>(25.4,61.5)</td>\n    </tr>\n    <tr>\n      <th>...</th>\n      <td>...</td>\n      <td>...</td>\n      <td>...</td>\n      <td>...</td>\n      <td>...</td>\n      <td>...</td>\n      <td>...</td>\n    </tr>\n    <tr>\n      <th>125</th>\n      <td>Lake Eyre</td>\n      <td>9500.00</td>\n      <td>4.0</td>\n      <td>-17.0</td>\n      <td>salt</td>\n      <td>None</td>\n      <td>(137.3,-28.6)</td>\n    </tr>\n    <tr>\n      <th>126</th>\n      <td>Lake Burley Griffin</td>\n      <td>6.64</td>\n      <td>NaN</td>\n      <td>556.0</td>\n      <td>artificial</td>\n      <td>Murrumbidgee River</td>\n      <td>(149.1,-35.3)</td>\n    </tr>\n    <tr>\n      <th>127</th>\n      <td>Lake Hume</td>\n      <td>202.00</td>\n      <td>NaN</td>\n      <td>NaN</td>\n      <td>None</td>\n      <td>Murray River</td>\n      <td>(147,-36.1)</td>\n    </tr>\n    <tr>\n      <th>128</th>\n      <td>Kentucky Lake</td>\n      <td>648.00</td>\n      <td>NaN</td>\n      <td>NaN</td>\n      <td>None</td>\n      <td>Tennessee</td>\n      <td>(-88.3,37)</td>\n    </tr>\n    <tr>\n      <th>129</th>\n      <td>Chickamauga Lake</td>\n      <td>147.00</td>\n      <td>NaN</td>\n      <td>NaN</td>\n      <td>None</td>\n      <td>Tennessee</td>\n      <td>(-85.0,35.4)</td>\n    </tr>\n  </tbody>\n</table>\n<p>130 rows × 7 columns</p>\n</div>"
     },
     "execution_count": 6,
     "metadata": {},
     "output_type": "execute_result"
    }
   ],
   "source": [
    "df"
   ]
  },
  {
   "cell_type": "markdown",
   "metadata": {},
   "source": [
    "## T8.2 d) (2 Points)"
   ]
  },
  {
   "cell_type": "code",
   "execution_count": 7,
   "metadata": {},
   "outputs": [
    {
     "name": "stdout",
     "output_type": "stream",
     "text": [
      " * postgresql+psycopg2://\n",
      "7 rows affected.\n"
     ]
    },
    {
     "data": {
      "text/plain": "[('crater', None),\n (None, Decimal('205.7313432835820896')),\n ('salt', Decimal('114.4423076923076923')),\n ('impact', Decimal('107.5000000000000000')),\n ('acid', None),\n ('artificial', Decimal('116.4285714285714286')),\n ('caldera', Decimal('239.7142857142857143'))]",
      "text/html": "<table>\n    <tr>\n        <th>type</th>\n        <th>avg</th>\n    </tr>\n    <tr>\n        <td>crater</td>\n        <td>None</td>\n    </tr>\n    <tr>\n        <td>None</td>\n        <td>205.7313432835820896</td>\n    </tr>\n    <tr>\n        <td>salt</td>\n        <td>114.4423076923076923</td>\n    </tr>\n    <tr>\n        <td>impact</td>\n        <td>107.5000000000000000</td>\n    </tr>\n    <tr>\n        <td>acid</td>\n        <td>None</td>\n    </tr>\n    <tr>\n        <td>artificial</td>\n        <td>116.4285714285714286</td>\n    </tr>\n    <tr>\n        <td>caldera</td>\n        <td>239.7142857142857143</td>\n    </tr>\n</table>"
     },
     "execution_count": 7,
     "metadata": {},
     "output_type": "execute_result"
    }
   ],
   "source": [
    "%%sql SELECT type, avg(depth)\n",
    "  FROM lake\n",
    "  GROUP BY type"
   ]
  },
  {
   "cell_type": "code",
   "execution_count": 8,
   "metadata": {},
   "outputs": [
    {
     "data": {
      "text/plain": "                    name     area  depth  altitude        type  \\\n0                  Inari  1040.00   92.0     119.0        None   \n1             Oulujaervi   928.00   35.0     123.0        None   \n2              Kallavesi   472.00    NaN       NaN        None   \n3                 Saimaa  4370.00   85.0      76.0        None   \n4             Paeijaenne  1118.00   95.0      78.0        None   \n..                   ...      ...    ...       ...         ...   \n125            Lake Eyre  9500.00    4.0     -17.0        salt   \n126  Lake Burley Griffin     6.64    NaN     556.0  artificial   \n127            Lake Hume   202.00    NaN       NaN        None   \n128        Kentucky Lake   648.00    NaN       NaN        None   \n129     Chickamauga Lake   147.00    NaN       NaN        None   \n\n                  river    coordinates  \n0             Paatsjoki   (27.7,68.95)  \n1              Oulujoki   (27.25,64.3)  \n2                Vuoksi    (27.7,62.9)  \n3                Vuoksi    (28.0,61.3)  \n4              Kymijoki    (25.4,61.5)  \n..                  ...            ...  \n125                None  (137.3,-28.6)  \n126  Murrumbidgee River  (149.1,-35.3)  \n127        Murray River    (147,-36.1)  \n128           Tennessee     (-88.3,37)  \n129           Tennessee   (-85.0,35.4)  \n\n[130 rows x 7 columns]",
      "text/html": "<div>\n<style scoped>\n    .dataframe tbody tr th:only-of-type {\n        vertical-align: middle;\n    }\n\n    .dataframe tbody tr th {\n        vertical-align: top;\n    }\n\n    .dataframe thead th {\n        text-align: right;\n    }\n</style>\n<table border=\"1\" class=\"dataframe\">\n  <thead>\n    <tr style=\"text-align: right;\">\n      <th></th>\n      <th>name</th>\n      <th>area</th>\n      <th>depth</th>\n      <th>altitude</th>\n      <th>type</th>\n      <th>river</th>\n      <th>coordinates</th>\n    </tr>\n  </thead>\n  <tbody>\n    <tr>\n      <th>0</th>\n      <td>Inari</td>\n      <td>1040.00</td>\n      <td>92.0</td>\n      <td>119.0</td>\n      <td>None</td>\n      <td>Paatsjoki</td>\n      <td>(27.7,68.95)</td>\n    </tr>\n    <tr>\n      <th>1</th>\n      <td>Oulujaervi</td>\n      <td>928.00</td>\n      <td>35.0</td>\n      <td>123.0</td>\n      <td>None</td>\n      <td>Oulujoki</td>\n      <td>(27.25,64.3)</td>\n    </tr>\n    <tr>\n      <th>2</th>\n      <td>Kallavesi</td>\n      <td>472.00</td>\n      <td>NaN</td>\n      <td>NaN</td>\n      <td>None</td>\n      <td>Vuoksi</td>\n      <td>(27.7,62.9)</td>\n    </tr>\n    <tr>\n      <th>3</th>\n      <td>Saimaa</td>\n      <td>4370.00</td>\n      <td>85.0</td>\n      <td>76.0</td>\n      <td>None</td>\n      <td>Vuoksi</td>\n      <td>(28.0,61.3)</td>\n    </tr>\n    <tr>\n      <th>4</th>\n      <td>Paeijaenne</td>\n      <td>1118.00</td>\n      <td>95.0</td>\n      <td>78.0</td>\n      <td>None</td>\n      <td>Kymijoki</td>\n      <td>(25.4,61.5)</td>\n    </tr>\n    <tr>\n      <th>...</th>\n      <td>...</td>\n      <td>...</td>\n      <td>...</td>\n      <td>...</td>\n      <td>...</td>\n      <td>...</td>\n      <td>...</td>\n    </tr>\n    <tr>\n      <th>125</th>\n      <td>Lake Eyre</td>\n      <td>9500.00</td>\n      <td>4.0</td>\n      <td>-17.0</td>\n      <td>salt</td>\n      <td>None</td>\n      <td>(137.3,-28.6)</td>\n    </tr>\n    <tr>\n      <th>126</th>\n      <td>Lake Burley Griffin</td>\n      <td>6.64</td>\n      <td>NaN</td>\n      <td>556.0</td>\n      <td>artificial</td>\n      <td>Murrumbidgee River</td>\n      <td>(149.1,-35.3)</td>\n    </tr>\n    <tr>\n      <th>127</th>\n      <td>Lake Hume</td>\n      <td>202.00</td>\n      <td>NaN</td>\n      <td>NaN</td>\n      <td>None</td>\n      <td>Murray River</td>\n      <td>(147,-36.1)</td>\n    </tr>\n    <tr>\n      <th>128</th>\n      <td>Kentucky Lake</td>\n      <td>648.00</td>\n      <td>NaN</td>\n      <td>NaN</td>\n      <td>None</td>\n      <td>Tennessee</td>\n      <td>(-88.3,37)</td>\n    </tr>\n    <tr>\n      <th>129</th>\n      <td>Chickamauga Lake</td>\n      <td>147.00</td>\n      <td>NaN</td>\n      <td>NaN</td>\n      <td>None</td>\n      <td>Tennessee</td>\n      <td>(-85.0,35.4)</td>\n    </tr>\n  </tbody>\n</table>\n<p>130 rows × 7 columns</p>\n</div>"
     },
     "execution_count": 8,
     "metadata": {},
     "output_type": "execute_result"
    }
   ],
   "source": [
    "import numpy\n",
    "\n",
    "df"
   ]
  },
  {
   "cell_type": "markdown",
   "metadata": {},
   "source": [
    "## T8.2 e) (2 Points)\n"
   ]
  },
  {
   "cell_type": "code",
   "execution_count": 9,
   "metadata": {},
   "outputs": [
    {
     "name": "stdout",
     "output_type": "stream",
     "text": [
      " * postgresql+psycopg2://\n",
      "2 rows affected.\n"
     ]
    },
    {
     "data": {
      "text/plain": "[]"
     },
     "execution_count": 9,
     "metadata": {},
     "output_type": "execute_result"
    }
   ],
   "source": [
    "%sql UPDATE lake SET river='Caquinampo' WHERE river = 'Tennessee'"
   ]
  },
  {
   "cell_type": "code",
   "execution_count": 10,
   "metadata": {},
   "outputs": [
    {
     "data": {
      "text/plain": "                    name     area  depth  altitude        type  \\\n0                  Inari  1040.00   92.0     119.0        None   \n1             Oulujaervi   928.00   35.0     123.0        None   \n2              Kallavesi   472.00    NaN       NaN        None   \n3                 Saimaa  4370.00   85.0      76.0        None   \n4             Paeijaenne  1118.00   95.0      78.0        None   \n..                   ...      ...    ...       ...         ...   \n125            Lake Eyre  9500.00    4.0     -17.0        salt   \n126  Lake Burley Griffin     6.64    NaN     556.0  artificial   \n127            Lake Hume   202.00    NaN       NaN        None   \n128        Kentucky Lake   648.00    NaN       NaN        None   \n129     Chickamauga Lake   147.00    NaN       NaN        None   \n\n                  river    coordinates  \n0             Paatsjoki   (27.7,68.95)  \n1              Oulujoki   (27.25,64.3)  \n2                Vuoksi    (27.7,62.9)  \n3                Vuoksi    (28.0,61.3)  \n4              Kymijoki    (25.4,61.5)  \n..                  ...            ...  \n125                None  (137.3,-28.6)  \n126  Murrumbidgee River  (149.1,-35.3)  \n127        Murray River    (147,-36.1)  \n128           Tennessee     (-88.3,37)  \n129           Tennessee   (-85.0,35.4)  \n\n[130 rows x 7 columns]",
      "text/html": "<div>\n<style scoped>\n    .dataframe tbody tr th:only-of-type {\n        vertical-align: middle;\n    }\n\n    .dataframe tbody tr th {\n        vertical-align: top;\n    }\n\n    .dataframe thead th {\n        text-align: right;\n    }\n</style>\n<table border=\"1\" class=\"dataframe\">\n  <thead>\n    <tr style=\"text-align: right;\">\n      <th></th>\n      <th>name</th>\n      <th>area</th>\n      <th>depth</th>\n      <th>altitude</th>\n      <th>type</th>\n      <th>river</th>\n      <th>coordinates</th>\n    </tr>\n  </thead>\n  <tbody>\n    <tr>\n      <th>0</th>\n      <td>Inari</td>\n      <td>1040.00</td>\n      <td>92.0</td>\n      <td>119.0</td>\n      <td>None</td>\n      <td>Paatsjoki</td>\n      <td>(27.7,68.95)</td>\n    </tr>\n    <tr>\n      <th>1</th>\n      <td>Oulujaervi</td>\n      <td>928.00</td>\n      <td>35.0</td>\n      <td>123.0</td>\n      <td>None</td>\n      <td>Oulujoki</td>\n      <td>(27.25,64.3)</td>\n    </tr>\n    <tr>\n      <th>2</th>\n      <td>Kallavesi</td>\n      <td>472.00</td>\n      <td>NaN</td>\n      <td>NaN</td>\n      <td>None</td>\n      <td>Vuoksi</td>\n      <td>(27.7,62.9)</td>\n    </tr>\n    <tr>\n      <th>3</th>\n      <td>Saimaa</td>\n      <td>4370.00</td>\n      <td>85.0</td>\n      <td>76.0</td>\n      <td>None</td>\n      <td>Vuoksi</td>\n      <td>(28.0,61.3)</td>\n    </tr>\n    <tr>\n      <th>4</th>\n      <td>Paeijaenne</td>\n      <td>1118.00</td>\n      <td>95.0</td>\n      <td>78.0</td>\n      <td>None</td>\n      <td>Kymijoki</td>\n      <td>(25.4,61.5)</td>\n    </tr>\n    <tr>\n      <th>...</th>\n      <td>...</td>\n      <td>...</td>\n      <td>...</td>\n      <td>...</td>\n      <td>...</td>\n      <td>...</td>\n      <td>...</td>\n    </tr>\n    <tr>\n      <th>125</th>\n      <td>Lake Eyre</td>\n      <td>9500.00</td>\n      <td>4.0</td>\n      <td>-17.0</td>\n      <td>salt</td>\n      <td>None</td>\n      <td>(137.3,-28.6)</td>\n    </tr>\n    <tr>\n      <th>126</th>\n      <td>Lake Burley Griffin</td>\n      <td>6.64</td>\n      <td>NaN</td>\n      <td>556.0</td>\n      <td>artificial</td>\n      <td>Murrumbidgee River</td>\n      <td>(149.1,-35.3)</td>\n    </tr>\n    <tr>\n      <th>127</th>\n      <td>Lake Hume</td>\n      <td>202.00</td>\n      <td>NaN</td>\n      <td>NaN</td>\n      <td>None</td>\n      <td>Murray River</td>\n      <td>(147,-36.1)</td>\n    </tr>\n    <tr>\n      <th>128</th>\n      <td>Kentucky Lake</td>\n      <td>648.00</td>\n      <td>NaN</td>\n      <td>NaN</td>\n      <td>None</td>\n      <td>Tennessee</td>\n      <td>(-88.3,37)</td>\n    </tr>\n    <tr>\n      <th>129</th>\n      <td>Chickamauga Lake</td>\n      <td>147.00</td>\n      <td>NaN</td>\n      <td>NaN</td>\n      <td>None</td>\n      <td>Tennessee</td>\n      <td>(-85.0,35.4)</td>\n    </tr>\n  </tbody>\n</table>\n<p>130 rows × 7 columns</p>\n</div>"
     },
     "execution_count": 10,
     "metadata": {},
     "output_type": "execute_result"
    }
   ],
   "source": [
    "df"
   ]
  },
  {
   "cell_type": "markdown",
   "metadata": {},
   "source": [
    "Use the statement below if you want to undo the effect of the SQL statement for testing."
   ]
  },
  {
   "cell_type": "code",
   "execution_count": 11,
   "metadata": {},
   "outputs": [
    {
     "name": "stdout",
     "output_type": "stream",
     "text": [
      " * postgresql+psycopg2://\n",
      "2 rows affected.\n"
     ]
    },
    {
     "data": {
      "text/plain": "[]"
     },
     "execution_count": 11,
     "metadata": {},
     "output_type": "execute_result"
    }
   ],
   "source": [
    "%sql UPDATE lake SET river='Tennessee' WHERE river = 'Caquinampo'\n"
   ]
  },
  {
   "cell_type": "markdown",
   "metadata": {},
   "source": [
    "You can use the statement below to check if the update did work"
   ]
  },
  {
   "cell_type": "code",
   "execution_count": 12,
   "metadata": {},
   "outputs": [
    {
     "data": {
      "text/plain": "Empty DataFrame\nColumns: [name, area, depth, altitude, type, river, coordinates]\nIndex: []",
      "text/html": "<div>\n<style scoped>\n    .dataframe tbody tr th:only-of-type {\n        vertical-align: middle;\n    }\n\n    .dataframe tbody tr th {\n        vertical-align: top;\n    }\n\n    .dataframe thead th {\n        text-align: right;\n    }\n</style>\n<table border=\"1\" class=\"dataframe\">\n  <thead>\n    <tr style=\"text-align: right;\">\n      <th></th>\n      <th>name</th>\n      <th>area</th>\n      <th>depth</th>\n      <th>altitude</th>\n      <th>type</th>\n      <th>river</th>\n      <th>coordinates</th>\n    </tr>\n  </thead>\n  <tbody>\n  </tbody>\n</table>\n</div>"
     },
     "execution_count": 12,
     "metadata": {},
     "output_type": "execute_result"
    }
   ],
   "source": [
    "df[df['river']=='Caquinampo']"
   ]
  },
  {
   "cell_type": "code",
   "execution_count": 12,
   "metadata": {},
   "outputs": [],
   "source": []
  }
 ],
 "metadata": {
  "kernelspec": {
   "display_name": "Python 3 (ipykernel)",
   "language": "python",
   "name": "python3"
  },
  "language_info": {
   "codemirror_mode": {
    "name": "ipython",
    "version": 3
   },
   "file_extension": ".py",
   "mimetype": "text/x-python",
   "name": "python",
   "nbconvert_exporter": "python",
   "pygments_lexer": "ipython3",
   "version": "3.10.8"
  }
 },
 "nbformat": 4,
 "nbformat_minor": 1
}
