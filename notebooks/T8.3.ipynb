{
 "cells": [
  {
   "cell_type": "markdown",
   "metadata": {},
   "source": [
    "# Task 8.3 ORM (7 Points)\n",
    "In this task you should fill te gaps in the program below to create a model of students studying different majors. The solution will be evaluated manually, so reasonable variations in names etc. are ok. Add comments to explain what the code is doing.\n",
    "*Export the solution as python file and upload it to praktomat.*"
   ]
  },
  {
   "cell_type": "code",
   "execution_count": 1,
   "metadata": {},
   "outputs": [],
   "source": [
    "from sqlalchemy import create_engine, Column, String, Integer, ForeignKey\n",
    "from sqlalchemy.ext.declarative import declarative_base\n",
    "from sqlalchemy.orm import sessionmaker, relationship\n",
    "\n",
    "engine = create_engine(\"postgresql+psycopg2://\")\n",
    "base = declarative_base()"
   ]
  },
  {
   "cell_type": "markdown",
   "metadata": {},
   "source": [
    "Execute the following code. What does it do to the connected database?"
   ]
  },
  {
   "cell_type": "code",
   "execution_count": 2,
   "metadata": {},
   "outputs": [],
   "source": [
    "class Student(base):\n",
    "    __tablename__ = 'student'\n",
    "\n",
    "    sid = Column(Integer, primary_key=True)\n",
    "    first = Column(String)\n",
    "    last = Column(String)\n",
    "\n",
    "\n",
    "Session = sessionmaker(engine)\n",
    "session = Session()\n",
    "\n",
    "base.metadata.create_all(engine)"
   ]
  },
  {
   "cell_type": "markdown",
   "metadata": {},
   "source": [
    "Type your answer below:"
   ]
  },
  {
   "cell_type": "code",
   "execution_count": 2,
   "metadata": {},
   "outputs": [],
   "source": []
  },
  {
   "cell_type": "markdown",
   "metadata": {},
   "source": [
    "Add another model for Major(name, duration) below"
   ]
  },
  {
   "cell_type": "code",
   "execution_count": 3,
   "metadata": {},
   "outputs": [],
   "source": [
    "class XXX(base):\n",
    "    __tablename__ = 'xxx'\n",
    "\n",
    "    col1 = Column(Integer, primary_key=True)\n",
    "    col2 = Column(String)\n",
    "\n",
    "\n",
    "base.metadata.create_all(engine)"
   ]
  },
  {
   "cell_type": "markdown",
   "metadata": {},
   "source": [
    "Update the models and create a foreign key constraint between students and base majors. Assume that each student is mapped to one major. See https://docs.sqlalchemy.org/en/14/orm/basic_relationships.html#one-to-many"
   ]
  },
  {
   "cell_type": "code",
   "execution_count": 3,
   "metadata": {},
   "outputs": [],
   "source": []
  },
  {
   "cell_type": "markdown",
   "metadata": {},
   "source": [
    "Now add some data."
   ]
  },
  {
   "cell_type": "code",
   "execution_count": 4,
   "metadata": {},
   "outputs": [],
   "source": [
    "\n",
    "sample_student = Student(first=\"Max\", last=\"Mustermann\")\n",
    "session.add(sample_student)\n",
    "session.commit()\n"
   ]
  },
  {
   "cell_type": "markdown",
   "metadata": {},
   "source": [
    "Last print out the names and majors of all students in the database"
   ]
  },
  {
   "cell_type": "code",
   "execution_count": 5,
   "metadata": {},
   "outputs": [
    {
     "name": "stdout",
     "output_type": "stream",
     "text": [
      "Max\n"
     ]
    }
   ],
   "source": [
    "students = session.query(Student)\n",
    "for student in students:\n",
    "    print(student.first)"
   ]
  }
 ],
 "metadata": {
  "kernelspec": {
   "display_name": "Python 3 (ipykernel)",
   "language": "python",
   "name": "python3"
  },
  "language_info": {
   "codemirror_mode": {
    "name": "ipython",
    "version": 3
   },
   "file_extension": ".py",
   "mimetype": "text/x-python",
   "name": "python",
   "nbconvert_exporter": "python",
   "pygments_lexer": "ipython3",
   "version": "3.10.8"
  }
 },
 "nbformat": 4,
 "nbformat_minor": 1
}
